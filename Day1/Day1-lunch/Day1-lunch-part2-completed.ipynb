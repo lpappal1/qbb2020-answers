{
 "cells": [
  {
   "cell_type": "markdown",
   "metadata": {},
   "source": [
    "# Learning objectives"
   ]
  },
  {
   "cell_type": "markdown",
   "metadata": {},
   "source": [
    "1. Introduce pandas\n",
    "1. More matplotlib"
   ]
  },
  {
   "cell_type": "markdown",
   "metadata": {},
   "source": [
    "# Load packages"
   ]
  },
  {
   "cell_type": "code",
   "execution_count": 38,
   "metadata": {},
   "outputs": [],
   "source": [
    "import numpy as np\n",
    "import pandas as pd\n",
    "import matplotlib.pyplot as plt"
   ]
  },
  {
   "cell_type": "markdown",
   "metadata": {},
   "source": [
    "# Load K4me3.bed"
   ]
  },
  {
   "cell_type": "code",
   "execution_count": 39,
   "metadata": {},
   "outputs": [
    {
     "data": {
      "text/html": [
       "<div>\n",
       "<style scoped>\n",
       "    .dataframe tbody tr th:only-of-type {\n",
       "        vertical-align: middle;\n",
       "    }\n",
       "\n",
       "    .dataframe tbody tr th {\n",
       "        vertical-align: top;\n",
       "    }\n",
       "\n",
       "    .dataframe thead th {\n",
       "        text-align: right;\n",
       "    }\n",
       "</style>\n",
       "<table border=\"1\" class=\"dataframe\">\n",
       "  <thead>\n",
       "    <tr style=\"text-align: right;\">\n",
       "      <th></th>\n",
       "      <th>chr</th>\n",
       "      <th>start</th>\n",
       "      <th>end</th>\n",
       "    </tr>\n",
       "  </thead>\n",
       "  <tbody>\n",
       "    <tr>\n",
       "      <th>0</th>\n",
       "      <td>2L</td>\n",
       "      <td>5037</td>\n",
       "      <td>9637</td>\n",
       "    </tr>\n",
       "    <tr>\n",
       "      <th>1</th>\n",
       "      <td>2L</td>\n",
       "      <td>322173</td>\n",
       "      <td>326237</td>\n",
       "    </tr>\n",
       "    <tr>\n",
       "      <th>2</th>\n",
       "      <td>2L</td>\n",
       "      <td>365873</td>\n",
       "      <td>398837</td>\n",
       "    </tr>\n",
       "    <tr>\n",
       "      <th>3</th>\n",
       "      <td>2L</td>\n",
       "      <td>498973</td>\n",
       "      <td>547373</td>\n",
       "    </tr>\n",
       "    <tr>\n",
       "      <th>4</th>\n",
       "      <td>2L</td>\n",
       "      <td>579973</td>\n",
       "      <td>608037</td>\n",
       "    </tr>\n",
       "    <tr>\n",
       "      <th>...</th>\n",
       "      <td>...</td>\n",
       "      <td>...</td>\n",
       "      <td>...</td>\n",
       "    </tr>\n",
       "    <tr>\n",
       "      <th>426</th>\n",
       "      <td>X</td>\n",
       "      <td>20310691</td>\n",
       "      <td>20388555</td>\n",
       "    </tr>\n",
       "    <tr>\n",
       "      <th>427</th>\n",
       "      <td>X</td>\n",
       "      <td>20534591</td>\n",
       "      <td>20759055</td>\n",
       "    </tr>\n",
       "    <tr>\n",
       "      <th>428</th>\n",
       "      <td>X</td>\n",
       "      <td>20824191</td>\n",
       "      <td>20835255</td>\n",
       "    </tr>\n",
       "    <tr>\n",
       "      <th>429</th>\n",
       "      <td>X</td>\n",
       "      <td>20924791</td>\n",
       "      <td>20953755</td>\n",
       "    </tr>\n",
       "    <tr>\n",
       "      <th>430</th>\n",
       "      <td>X</td>\n",
       "      <td>21464155</td>\n",
       "      <td>21496991</td>\n",
       "    </tr>\n",
       "  </tbody>\n",
       "</table>\n",
       "<p>431 rows × 3 columns</p>\n",
       "</div>"
      ],
      "text/plain": [
       "    chr     start       end\n",
       "0    2L      5037      9637\n",
       "1    2L    322173    326237\n",
       "2    2L    365873    398837\n",
       "3    2L    498973    547373\n",
       "4    2L    579973    608037\n",
       "..   ..       ...       ...\n",
       "426   X  20310691  20388555\n",
       "427   X  20534591  20759055\n",
       "428   X  20824191  20835255\n",
       "429   X  20924791  20953755\n",
       "430   X  21464155  21496991\n",
       "\n",
       "[431 rows x 3 columns]"
      ]
     },
     "execution_count": 39,
     "metadata": {},
     "output_type": "execute_result"
    }
   ],
   "source": [
    "bed_columns = [\"chr\", \"start\", \"end\"]\n",
    "df_k4 = pd.read_table( \"/Users/cmdb/qbb2020/data/K4me3.bed\", names=bed_columns )\n",
    "df_k9 = pd.read_table(\"/Users/cmdb/qbb2020/data/K9me3.bed\", names=bed_columns)\n",
    "df_k27 = pd.read_table(\"/Users/cmdb/qbb2020/data/K27me3.bed\", names=bed_columns)\n",
    "df_k27"
   ]
  },
  {
   "cell_type": "code",
   "execution_count": 40,
   "metadata": {},
   "outputs": [
    {
     "data": {
      "text/plain": [
       "pandas.core.frame.DataFrame"
      ]
     },
     "execution_count": 40,
     "metadata": {},
     "output_type": "execute_result"
    }
   ],
   "source": [
    "\n",
    "type(df_k9)"
   ]
  },
  {
   "cell_type": "markdown",
   "metadata": {},
   "source": [
    "# Work with data frames"
   ]
  },
  {
   "cell_type": "code",
   "execution_count": 41,
   "metadata": {},
   "outputs": [
    {
     "data": {
      "text/plain": [
       "Index(['chr', 'start', 'end'], dtype='object')"
      ]
     },
     "execution_count": 41,
     "metadata": {},
     "output_type": "execute_result"
    }
   ],
   "source": [
    "df_k9.columns"
   ]
  },
  {
   "cell_type": "code",
   "execution_count": 42,
   "metadata": {},
   "outputs": [
    {
     "data": {
      "text/plain": [
       "RangeIndex(start=0, stop=296, step=1)"
      ]
     },
     "execution_count": 42,
     "metadata": {},
     "output_type": "execute_result"
    }
   ],
   "source": [
    "df_k9.index"
   ]
  },
  {
   "cell_type": "code",
   "execution_count": 43,
   "metadata": {},
   "outputs": [
    {
     "data": {
      "text/plain": [
       "array([['2L', 5031, 13131],\n",
       "       ['2L', 356567, 382831],\n",
       "       ['2L', 582167, 609431],\n",
       "       ['2L', 975967, 996567],\n",
       "       ['2L', 1667067, 1687931],\n",
       "       ['2L', 1951367, 1973731],\n",
       "       ['2L', 2444667, 2472231],\n",
       "       ['2L', 2787767, 2813667],\n",
       "       ['2L', 3531367, 3617731],\n",
       "       ['2L', 3657967, 3683931],\n",
       "       ['2L', 3816467, 3858231],\n",
       "       ['2L', 4937167, 4941531],\n",
       "       ['2L', 5166131, 5191331],\n",
       "       ['2L', 5353167, 5499431],\n",
       "       ['2L', 6151431, 6178467],\n",
       "       ['2L', 6403231, 6433431],\n",
       "       ['2L', 6534767, 6551231],\n",
       "       ['2L', 6807967, 6844831],\n",
       "       ['2L', 7286067, 7319331],\n",
       "       ['2L', 7350967, 7366431],\n",
       "       ['2L', 8797167, 8881731],\n",
       "       ['2L', 9577967, 9611931],\n",
       "       ['2L', 11323767, 11382731],\n",
       "       ['2L', 11425767, 11471031],\n",
       "       ['2L', 12076767, 12092531],\n",
       "       ['2L', 12580031, 12678231],\n",
       "       ['2L', 13864367, 13891767],\n",
       "       ['2L', 14473331, 14490131],\n",
       "       ['2L', 15102467, 15113131],\n",
       "       ['2L', 15309167, 15350931],\n",
       "       ['2L', 15459267, 15493631],\n",
       "       ['2L', 16396467, 16487631],\n",
       "       ['2L', 17256467, 17286967],\n",
       "       ['2L', 17725967, 17756931],\n",
       "       ['2L', 18592067, 18602931],\n",
       "       ['2L', 18721667, 18812931],\n",
       "       ['2L', 18862567, 18941931],\n",
       "       ['2L', 19283667, 19310031],\n",
       "       ['2L', 19673867, 19714531],\n",
       "       ['2L', 20100167, 20132731],\n",
       "       ['2L', 20290867, 20303231],\n",
       "       ['2L', 20765367, 20786431],\n",
       "       ['2L', 21543467, 21606831],\n",
       "       ['2L', 21780467, 21815731],\n",
       "       ['2L', 21834567, 21926731],\n",
       "       ['2L', 21965831, 22043931],\n",
       "       ['2L', 22178067, 22300331],\n",
       "       ['2L', 22325067, 22843699],\n",
       "       ['2L', 22858535, 22873299],\n",
       "       ['2L', 22922135, 23101266],\n",
       "       ['2L', 23161963, 23194027],\n",
       "       ['2L', 23278259, 23358823],\n",
       "       ['2L', 23382005, 23418770],\n",
       "       ['2R', 4122926, 4431690],\n",
       "       ['2R', 4472426, 5646790],\n",
       "       ['2R', 5715326, 5751790],\n",
       "       ['2R', 5914626, 5933390],\n",
       "       ['2R', 6249526, 6341690],\n",
       "       ['2R', 6416626, 6508090],\n",
       "       ['2R', 6555626, 6599290],\n",
       "       ['2R', 7409226, 7439790],\n",
       "       ['2R', 8015126, 8050890],\n",
       "       ['2R', 8831626, 8847690],\n",
       "       ['2R', 9192726, 9212590],\n",
       "       ['2R', 9313926, 9334390],\n",
       "       ['2R', 9467126, 9504090],\n",
       "       ['2R', 9973226, 9988490],\n",
       "       ['2R', 10236990, 10243390],\n",
       "       ['2R', 11409226, 11425890],\n",
       "       ['2R', 11466526, 11569890],\n",
       "       ['2R', 11785826, 11802790],\n",
       "       ['2R', 12774526, 12799990],\n",
       "       ['2R', 12881626, 12912090],\n",
       "       ['2R', 12949626, 13042790],\n",
       "       ['2R', 14195326, 14213590],\n",
       "       ['2R', 14441626, 14480390],\n",
       "       ['2R', 14781926, 14830690],\n",
       "       ['2R', 15822926, 15845690],\n",
       "       ['2R', 17810826, 17826290],\n",
       "       ['2R', 19259526, 19277690],\n",
       "       ['2R', 20044926, 20083490],\n",
       "       ['2R', 20886126, 20990426],\n",
       "       ['2R', 21747126, 21751090],\n",
       "       ['2R', 22226526, 22268890],\n",
       "       ['2R', 22841108, 22875872],\n",
       "       ['2R', 23022872, 23056372],\n",
       "       ['2R', 23619908, 23649672],\n",
       "       ['2R', 24352408, 24380772],\n",
       "       ['2R', 24798908, 24853072],\n",
       "       ['2R', 25041308, 25141872],\n",
       "       ['2R', 25210108, 25240872],\n",
       "       ['2R', 870395, 1118186],\n",
       "       ['2R', 1172603, 1193067],\n",
       "       ['2R', 1231203, 1881330],\n",
       "       ['2R', 1917766, 2268098],\n",
       "       ['2R', 2304915, 2322979],\n",
       "       ['2R', 2494173, 2595137],\n",
       "       ['2R', 2638472, 2706336],\n",
       "       ['2R', 2772430, 2803294],\n",
       "       ['2R', 2829730, 2982031],\n",
       "       ['2R', 3067974, 3210138],\n",
       "       ['2R', 3265959, 3303923],\n",
       "       ['3L', 27897205, 28015015],\n",
       "       ['3L', 27832628, 27874292],\n",
       "       ['3L', 19892, 36992],\n",
       "       ['3L', 104028, 110592],\n",
       "       ['3L', 368728, 434892],\n",
       "       ['3L', 1104928, 1120492],\n",
       "       ['3L', 1175528, 1192892],\n",
       "       ['3L', 1357228, 1385692],\n",
       "       ['3L', 1400028, 1472392],\n",
       "       ['3L', 1915428, 1935092],\n",
       "       ['3L', 2445728, 2466592],\n",
       "       ['3L', 3619528, 3649892],\n",
       "       ['3L', 3843128, 3892392],\n",
       "       ['3L', 4145128, 4165592],\n",
       "       ['3L', 4643128, 4657992],\n",
       "       ['3L', 4976928, 4991728],\n",
       "       ['3L', 5835728, 5892592],\n",
       "       ['3L', 5928992, 5944092],\n",
       "       ['3L', 6432028, 6449592],\n",
       "       ['3L', 6760392, 6852892],\n",
       "       ['3L', 6896028, 6930092],\n",
       "       ['3L', 7940728, 7964192],\n",
       "       ['3L', 8479028, 8509892],\n",
       "       ['3L', 8646928, 8682192],\n",
       "       ['3L', 9000728, 9045792],\n",
       "       ['3L', 9780428, 9794092],\n",
       "       ['3L', 10226428, 10330492],\n",
       "       ['3L', 10918592, 10928928],\n",
       "       ['3L', 10957928, 11029592],\n",
       "       ['3L', 11919628, 11947992],\n",
       "       ['3L', 12303928, 12334692],\n",
       "       ['3L', 12422828, 12469992],\n",
       "       ['3L', 12558728, 12709192],\n",
       "       ['3L', 13392428, 13408592],\n",
       "       ['3L', 13532628, 13590392],\n",
       "       ['3L', 13822828, 13859192],\n",
       "       ['3L', 14120128, 14186792],\n",
       "       ['3L', 14565828, 14604692],\n",
       "       ['3L', 15018728, 15047992],\n",
       "       ['3L', 16438128, 16460892],\n",
       "       ['3L', 18300928, 18310528],\n",
       "       ['3L', 18352592, 18388892],\n",
       "       ['3L', 18849628, 18863092],\n",
       "       ['3L', 19191728, 19205292],\n",
       "       ['3L', 19656628, 19684392],\n",
       "       ['3L', 20416128, 20424092],\n",
       "       ['3L', 20611228, 20706092],\n",
       "       ['3L', 20789728, 20802992],\n",
       "       ['3L', 21150728, 21163892],\n",
       "       ['3L', 21452828, 21483192],\n",
       "       ['3L', 21579228, 21603592],\n",
       "       ['3L', 21777928, 21819692],\n",
       "       ['3L', 21970228, 21979492],\n",
       "       ['3L', 22126128, 22142692],\n",
       "       ['3L', 22564092, 22582628],\n",
       "       ['3L', 23039428, 23537892],\n",
       "       ['3L', 23581428, 24212528],\n",
       "       ['3L', 24247828, 24382192],\n",
       "       ['3L', 24430028, 24456492],\n",
       "       ['3L', 24480928, 24529992],\n",
       "       ['3L', 24683169, 25024236],\n",
       "       ['3L', 25047157, 26068066],\n",
       "       ['3L', 26118783, 26317810],\n",
       "       ['3L', 26343341, 26563486],\n",
       "       ['3L', 26581942, 26877234],\n",
       "       ['3L', 27077076, 27185801],\n",
       "       ['3L', 27253765, 27384980],\n",
       "       ['3R', 4198318, 4213982],\n",
       "       ['3R', 4341218, 4366182],\n",
       "       ['3R', 4823318, 4896182],\n",
       "       ['3R', 6666418, 6700582],\n",
       "       ['3R', 6721818, 7042182],\n",
       "       ['3R', 7928018, 7961382],\n",
       "       ['3R', 8076418, 8094482],\n",
       "       ['3R', 8177318, 8213782],\n",
       "       ['3R', 8271318, 8292782],\n",
       "       ['3R', 8321018, 8338882],\n",
       "       ['3R', 8683218, 8704882],\n",
       "       ['3R', 10629382, 10669618],\n",
       "       ['3R', 11250382, 11322882],\n",
       "       ['3R', 11343418, 11375682],\n",
       "       ['3R', 12242418, 12287282],\n",
       "       ['3R', 13058018, 13077482],\n",
       "       ['3R', 13289818, 13304618],\n",
       "       ['3R', 13800718, 13819382],\n",
       "       ['3R', 13866518, 13942382],\n",
       "       ['3R', 15630518, 15647382],\n",
       "       ['3R', 15985018, 16039882],\n",
       "       ['3R', 16393218, 16427982],\n",
       "       ['3R', 16659718, 16976982],\n",
       "       ['3R', 17548218, 17588982],\n",
       "       ['3R', 18040418, 18082582],\n",
       "       ['3R', 18109418, 18141982],\n",
       "       ['3R', 20841618, 20849782],\n",
       "       ['3R', 21377818, 21516982],\n",
       "       ['3R', 21537418, 21569082],\n",
       "       ['3R', 23131618, 23145882],\n",
       "       ['3R', 23191518, 23213982],\n",
       "       ['3R', 23286518, 23318082],\n",
       "       ['3R', 25078118, 25096182],\n",
       "       ['3R', 26079218, 26105882],\n",
       "       ['3R', 27187618, 27202582],\n",
       "       ['3R', 28545518, 28596182],\n",
       "       ['3R', 29510618, 29585782],\n",
       "       ['3R', 29684318, 29715282],\n",
       "       ['3R', 30246618, 30280482],\n",
       "       ['3R', 30385018, 30417418],\n",
       "       ['3R', 30614918, 30636382],\n",
       "       ['3R', 30751418, 30785282],\n",
       "       ['3R', 30845818, 30866982],\n",
       "       ['3R', 30900318, 30936282],\n",
       "       ['3R', 31061618, 31077882],\n",
       "       ['3R', 32066218, 32073018],\n",
       "       ['3R', 2270322, 2285586],\n",
       "       ['3R', 2318693, 2355656],\n",
       "       ['3R', 3442970, 3800249],\n",
       "       ['3R', 3252951, 3409233],\n",
       "       ['4', 127713, 138913],\n",
       "       ['4', 185477, 209513],\n",
       "       ['4', 362713, 452477],\n",
       "       ['4', 582213, 616177],\n",
       "       ['4', 684513, 719477],\n",
       "       ['4', 748213, 868213],\n",
       "       ['4', 909877, 940977],\n",
       "       ['4', 964313, 1015477],\n",
       "       ['4', 1085313, 1114877],\n",
       "       ['4', 1147113, 1182677],\n",
       "       ['4', 1248813, 1292577],\n",
       "       ['2R', 440845, 743895],\n",
       "       ['Y', 2273551, 2303817],\n",
       "       ['3R', 67394, 87894],\n",
       "       ['Y_DS483690v1_random', 8011, 11775],\n",
       "       ['X', 373699, 387599],\n",
       "       ['X', 550935, 604699],\n",
       "       ['X', 1072335, 1077599],\n",
       "       ['X', 1163235, 1167099],\n",
       "       ['X', 1706599, 1735799],\n",
       "       ['X', 2128599, 2147999],\n",
       "       ['X', 2409335, 2442999],\n",
       "       ['X', 2488235, 2504299],\n",
       "       ['X', 3098435, 3126699],\n",
       "       ['X', 3406635, 3426235],\n",
       "       ['X', 3984599, 4000135],\n",
       "       ['X', 4050835, 4076299],\n",
       "       ['X', 4383035, 4534499],\n",
       "       ['X', 4555199, 4622299],\n",
       "       ['X', 5095935, 5112035],\n",
       "       ['X', 5285899, 5312535],\n",
       "       ['X', 5371335, 5388735],\n",
       "       ['X', 5546035, 5609499],\n",
       "       ['X', 5994435, 6031299],\n",
       "       ['X', 6553099, 6573599],\n",
       "       ['X', 6738999, 6758199],\n",
       "       ['X', 7111535, 7173199],\n",
       "       ['X', 7197435, 7252199],\n",
       "       ['X', 7536735, 7559199],\n",
       "       ['X', 7600335, 7639599],\n",
       "       ['X', 8618435, 8676699],\n",
       "       ['X', 8745535, 8827699],\n",
       "       ['X', 9284235, 9313199],\n",
       "       ['X', 9690135, 9774399],\n",
       "       ['X', 10093435, 10107999],\n",
       "       ['X', 10163135, 10175499],\n",
       "       ['X', 11303635, 11323799],\n",
       "       ['X', 12607935, 12625699],\n",
       "       ['X', 13794235, 13798499],\n",
       "       ['X', 13943135, 14044399],\n",
       "       ['X', 15958435, 15964199],\n",
       "       ['X', 16125335, 16251799],\n",
       "       ['X', 16460399, 16505199],\n",
       "       ['X', 17308635, 17417535],\n",
       "       ['X', 17758335, 17817599],\n",
       "       ['X', 17929235, 17984499],\n",
       "       ['X', 18106435, 18116899],\n",
       "       ['X', 18241035, 18327199],\n",
       "       ['X', 18585935, 18611799],\n",
       "       ['X', 18971935, 19016799],\n",
       "       ['X', 19386535, 19403299],\n",
       "       ['X', 19531435, 19559899],\n",
       "       ['X', 19806235, 19816099],\n",
       "       ['X', 20312041, 20389705],\n",
       "       ['X', 20541441, 20551941],\n",
       "       ['X', 20581441, 20611141],\n",
       "       ['X', 20634441, 20759005],\n",
       "       ['X', 20792141, 20824705],\n",
       "       ['X', 21435741, 21531341],\n",
       "       ['X', 21655241, 21673905],\n",
       "       ['X', 21733105, 21883392],\n",
       "       ['X', 22381835, 22437297],\n",
       "       ['X', 22708532, 22720332],\n",
       "       ['X', 22865032, 22882596],\n",
       "       ['X', 22981432, 23009896],\n",
       "       ['X', 23156000, 23204164],\n",
       "       ['Y', 650514, 1655192]], dtype=object)"
      ]
     },
     "execution_count": 43,
     "metadata": {},
     "output_type": "execute_result"
    }
   ],
   "source": [
    "\n",
    "\n",
    "df_k9.values"
   ]
  },
  {
   "cell_type": "code",
   "execution_count": 44,
   "metadata": {},
   "outputs": [
    {
     "data": {
      "text/plain": [
       "(296, 3)"
      ]
     },
     "execution_count": 44,
     "metadata": {},
     "output_type": "execute_result"
    }
   ],
   "source": [
    "df_k9.shape"
   ]
  },
  {
   "cell_type": "code",
   "execution_count": 45,
   "metadata": {},
   "outputs": [
    {
     "data": {
      "text/plain": [
       "'2L'"
      ]
     },
     "execution_count": 45,
     "metadata": {},
     "output_type": "execute_result"
    }
   ],
   "source": [
    "df_k9.loc[0,\"chr\"]"
   ]
  },
  {
   "cell_type": "code",
   "execution_count": 46,
   "metadata": {},
   "outputs": [
    {
     "data": {
      "text/plain": [
       "0      2L\n",
       "1      2L\n",
       "2      2L\n",
       "3      2L\n",
       "4      2L\n",
       "       ..\n",
       "291     X\n",
       "292     X\n",
       "293     X\n",
       "294     X\n",
       "295     Y\n",
       "Name: chr, Length: 296, dtype: object"
      ]
     },
     "execution_count": 46,
     "metadata": {},
     "output_type": "execute_result"
    }
   ],
   "source": [
    "df_k9.loc[:,\"chr\"]"
   ]
  },
  {
   "cell_type": "markdown",
   "metadata": {},
   "source": [
    "# Chromosomes"
   ]
  },
  {
   "cell_type": "markdown",
   "metadata": {},
   "source": [
    "## Demo"
   ]
  },
  {
   "cell_type": "code",
   "execution_count": 47,
   "metadata": {},
   "outputs": [
    {
     "data": {
      "text/plain": [
       "3R                     897\n",
       "2R                     799\n",
       "3L                     773\n",
       "2L                     713\n",
       "X                      580\n",
       "4                       65\n",
       "Y                        2\n",
       "Y_CP007111v1_random      1\n",
       "Name: chr, dtype: int64"
      ]
     },
     "execution_count": 47,
     "metadata": {},
     "output_type": "execute_result"
    }
   ],
   "source": [
    "chr_k4 = df_k4.loc[:,\"chr\"]\n",
    "chr_k4 = chr_k4.value_counts()\n",
    "chr_k4"
   ]
  },
  {
   "cell_type": "code",
   "execution_count": 48,
   "metadata": {},
   "outputs": [
    {
     "data": {
      "text/plain": [
       "pandas.core.series.Series"
      ]
     },
     "execution_count": 48,
     "metadata": {},
     "output_type": "execute_result"
    }
   ],
   "source": [
    "type( chr_k4 )"
   ]
  },
  {
   "cell_type": "code",
   "execution_count": 49,
   "metadata": {},
   "outputs": [
    {
     "data": {
      "text/plain": [
       "(8,)"
      ]
     },
     "execution_count": 49,
     "metadata": {},
     "output_type": "execute_result"
    }
   ],
   "source": [
    "chr_k4.shape"
   ]
  },
  {
   "cell_type": "code",
   "execution_count": 50,
   "metadata": {},
   "outputs": [
    {
     "data": {
      "text/plain": [
       "713"
      ]
     },
     "execution_count": 50,
     "metadata": {},
     "output_type": "execute_result"
    }
   ],
   "source": [
    "chr_k4.loc[\"2L\"]"
   ]
  },
  {
   "cell_type": "code",
   "execution_count": null,
   "metadata": {},
   "outputs": [],
   "source": [
    "\n",
    "\n"
   ]
  },
  {
   "cell_type": "code",
   "execution_count": 51,
   "metadata": {},
   "outputs": [
    {
     "data": {
      "text/plain": [
       "Index(['3R', '2R', '3L', '2L', 'X', '4', 'Y', 'Y_CP007111v1_random'], dtype='object')"
      ]
     },
     "execution_count": 51,
     "metadata": {},
     "output_type": "execute_result"
    }
   ],
   "source": [
    "chr_k4.index"
   ]
  },
  {
   "cell_type": "code",
   "execution_count": 52,
   "metadata": {},
   "outputs": [
    {
     "data": {
      "image/png": "[encoded data removed]",
      "text/plain": [
       "<Figure size 432x288 with 1 Axes>"
      ]
     },
     "metadata": {
      "needs_background": "light"
     },
     "output_type": "display_data"
    }
   ],
   "source": [
    "fig, ax = plt.subplots()\n",
    "ax.bar(chr_k4.index, chr_k4 )\n",
    "plt.show()"
   ]
  },
  {
   "cell_type": "markdown",
   "metadata": {},
   "source": [
    "## Question 1: Tidy up K4"
   ]
  },
  {
   "cell_type": "code",
   "execution_count": 76,
   "metadata": {
    "scrolled": true
   },
   "outputs": [
    {
     "data": {
      "image/png": "[encoded data removed]",
      "text/plain": [
       "<Figure size 432x288 with 1 Axes>"
      ]
     },
     "metadata": {
      "needs_background": "light"
     },
     "output_type": "display_data"
    }
   ],
   "source": [
    "fig, ax = plt.subplots()\n",
    "chr_k4 = chr_k4.sort_index()\n",
    "ax.bar(chr_k4.index, chr_k4)\n",
    "ax.set_xlabel('Chromosomes')\n",
    "ax.set_ylabel('Frequency')\n",
    "ax.set_title('Chromosome graph')\n",
    "plt.show()\n",
    "\n"
   ]
  },
  {
   "cell_type": "markdown",
   "metadata": {},
   "source": [
    "## Question 2: Subplot K9 K27"
   ]
  },
  {
   "cell_type": "code",
   "execution_count": 81,
   "metadata": {},
   "outputs": [
    {
     "data": {
      "image/png": "[encoded data removed]",
      "text/plain": [
       "<Figure size 432x288 with 3 Axes>"
      ]
     },
     "metadata": {
      "needs_background": "light"
     },
     "output_type": "display_data"
    }
   ],
   "source": [
    "import numpy as np\n",
    "import pandas as pd\n",
    "import matplotlib.pyplot as plt\n",
    "\n",
    "\n",
    "\n",
    "df_k9 = pd.read_table(\"/Users/cmdb/qbb2020/data/K9me3.bed\", names=bed_columns)\n",
    "df_k27 = pd.read_table(\"/Users/cmdb/qbb2020/data/K27me3.bed\", names=bed_columns)\n",
    "chr_k9 = df_k9.loc[:,\"chr\"]\n",
    "chr_k27 = df_k27.loc[:,\"chr\"]\n",
    "\n",
    "\n",
    "count_k9 = chr_k9.value_counts()\n",
    "count_k9 = count_k9.sort_index()\n",
    "\n",
    "count_k27 = chr_k27.value_counts()\n",
    "count_k27 = count_k27.sort_index()\n",
    "\n",
    "# print(len(chr_k9))\n",
    "# print(len(count_k9))\n",
    "\n",
    "fig, ax = plt.subplots(3)\n",
    "ax[0].bar(chr_k4.index, chr_k4)\n",
    "ax[1].bar(chr_k9, chr_k9.index)\n",
    "ax[2].bar(chr_k27, chr_k27.index)\n",
    "plt.show()\n",
    "\n",
    "# #ax.bar(chr_k9,)\n",
    "# #ax.bar(coi_k9, chr_k9)\n",
    "# # ax.set_xlabel('Chromosomes')\n",
    "# # ax.set_ylabel('Frequency')\n",
    "# # ax.set_title('Chromosome graph')\n",
    "# # #plt.show()\n"
   ]
  },
  {
   "cell_type": "code",
   "execution_count": 113,
   "metadata": {},
   "outputs": [
    {
     "data": {
      "text/plain": [
       "0      2L\n",
       "1      2L\n",
       "2      2L\n",
       "3      2L\n",
       "4      2L\n",
       "       ..\n",
       "291     X\n",
       "292     X\n",
       "293     X\n",
       "294     X\n",
       "295     Y\n",
       "Name: chr, Length: 296, dtype: object"
      ]
     },
     "execution_count": 113,
     "metadata": {},
     "output_type": "execute_result"
    }
   ],
   "source": [
    "chr_k9"
   ]
  },
  {
   "cell_type": "code",
   "execution_count": null,
   "metadata": {},
   "outputs": [],
   "source": [
    "# fig, (ax) = plt.subplots()\n",
    "# #fig, ax = plt.subplots()\n",
    "# coi_k9 = ['2L', '2R', '3L', '3R', 'X', '4', 'Y', 'Y_DS483690v1_random'] \n",
    "# coi_k9.sort()\n",
    "# #ax1.bar(coi, chr_k4)\n",
    "# ax.bar(coi_k9, chr_k9)\n",
    "#ax.set_xlabel('Chromosomes')\n",
    "#ax.set_ylabel('Frequency')\n",
    "#ax[0].set_title('Chromosome k4 graph')\n",
    "#plt.show()\n",
    "\n",
    "# fig, ax = plt.subplots()\n",
    "# coi.sort()\n",
    "\n",
    "# ax.set_xlabel('Chromosomes')\n",
    "# ax.set_ylabel('Frequency')\n",
    "# ax.set_title('Chromosome graph')\n",
    "# plt.show()\n",
    "\n",
    "# fig, ax = plt.subplots()\n",
    "# coi.sort()\n",
    "# ax.bar(coi, chr_k27)\n",
    "# ax.set_xlabel('Chromosomes')\n",
    "# ax.set_ylabel('Frequency')\n",
    "# ax.set_title('Chromosome graph')\n",
    "# plt.show()"
   ]
  },
  {
   "cell_type": "code",
   "execution_count": null,
   "metadata": {},
   "outputs": [],
   "source": [
    "chr_k9 = df_k9.loc[:,\"chr\"]\n",
    "chr_k9 = chr_k9.value_counts()\n",
    "coi = ['2L', '2R', '3L', '3R', 'X', '4', 'Y', 'Y_CP007111v1_random']\n",
    "chr_k9.loc[coi]\n",
    "\n",
    "chr_k27 = df_k27.loc[:,\"chr\"]\n",
    "chr_k27 = chr_k27.value_counts()\n",
    "coi = ['2L', '2R', '3L', '3R', 'X', '4', 'Y', 'Y_CP007111v1_random']\n",
    "chr_k27.loc[coi]"
   ]
  },
  {
   "cell_type": "code",
   "execution_count": null,
   "metadata": {},
   "outputs": [],
   "source": [
    "fig, ax = plt.subplots()\n",
    "ax.bar(chr_k4.index, chr_k4 )\n",
    "plt.show()\n",
    "\n"
   ]
  },
  {
   "cell_type": "markdown",
   "metadata": {},
   "source": [
    "# Widths"
   ]
  },
  {
   "cell_type": "markdown",
   "metadata": {},
   "source": [
    "## Demo"
   ]
  },
  {
   "cell_type": "code",
   "execution_count": 18,
   "metadata": {},
   "outputs": [
    {
     "data": {
      "text/html": [
       "<div>\n",
       "<style scoped>\n",
       "    .dataframe tbody tr th:only-of-type {\n",
       "        vertical-align: middle;\n",
       "    }\n",
       "\n",
       "    .dataframe tbody tr th {\n",
       "        vertical-align: top;\n",
       "    }\n",
       "\n",
       "    .dataframe thead th {\n",
       "        text-align: right;\n",
       "    }\n",
       "</style>\n",
       "<table border=\"1\" class=\"dataframe\">\n",
       "  <thead>\n",
       "    <tr style=\"text-align: right;\">\n",
       "      <th></th>\n",
       "      <th>chr</th>\n",
       "      <th>start</th>\n",
       "      <th>end</th>\n",
       "      <th>width</th>\n",
       "    </tr>\n",
       "  </thead>\n",
       "  <tbody>\n",
       "    <tr>\n",
       "      <th>0</th>\n",
       "      <td>3L</td>\n",
       "      <td>15823270</td>\n",
       "      <td>15830715</td>\n",
       "      <td>7445</td>\n",
       "    </tr>\n",
       "    <tr>\n",
       "      <th>1</th>\n",
       "      <td>2R</td>\n",
       "      <td>11451787</td>\n",
       "      <td>11459612</td>\n",
       "      <td>7825</td>\n",
       "    </tr>\n",
       "    <tr>\n",
       "      <th>2</th>\n",
       "      <td>3R</td>\n",
       "      <td>21665759</td>\n",
       "      <td>21673392</td>\n",
       "      <td>7633</td>\n",
       "    </tr>\n",
       "    <tr>\n",
       "      <th>3</th>\n",
       "      <td>2R</td>\n",
       "      <td>20324929</td>\n",
       "      <td>20331038</td>\n",
       "      <td>6109</td>\n",
       "    </tr>\n",
       "    <tr>\n",
       "      <th>4</th>\n",
       "      <td>3R</td>\n",
       "      <td>19859679</td>\n",
       "      <td>19864278</td>\n",
       "      <td>4599</td>\n",
       "    </tr>\n",
       "    <tr>\n",
       "      <th>...</th>\n",
       "      <td>...</td>\n",
       "      <td>...</td>\n",
       "      <td>...</td>\n",
       "      <td>...</td>\n",
       "    </tr>\n",
       "    <tr>\n",
       "      <th>3825</th>\n",
       "      <td>3R</td>\n",
       "      <td>565835</td>\n",
       "      <td>566082</td>\n",
       "      <td>247</td>\n",
       "    </tr>\n",
       "    <tr>\n",
       "      <th>3826</th>\n",
       "      <td>2L</td>\n",
       "      <td>10439373</td>\n",
       "      <td>10442085</td>\n",
       "      <td>2712</td>\n",
       "    </tr>\n",
       "    <tr>\n",
       "      <th>3827</th>\n",
       "      <td>3R</td>\n",
       "      <td>4477321</td>\n",
       "      <td>4479529</td>\n",
       "      <td>2208</td>\n",
       "    </tr>\n",
       "    <tr>\n",
       "      <th>3828</th>\n",
       "      <td>3L</td>\n",
       "      <td>711347</td>\n",
       "      <td>711871</td>\n",
       "      <td>524</td>\n",
       "    </tr>\n",
       "    <tr>\n",
       "      <th>3829</th>\n",
       "      <td>2L</td>\n",
       "      <td>6792695</td>\n",
       "      <td>6795077</td>\n",
       "      <td>2382</td>\n",
       "    </tr>\n",
       "  </tbody>\n",
       "</table>\n",
       "<p>3830 rows × 4 columns</p>\n",
       "</div>"
      ],
      "text/plain": [
       "     chr     start       end  width\n",
       "0     3L  15823270  15830715   7445\n",
       "1     2R  11451787  11459612   7825\n",
       "2     3R  21665759  21673392   7633\n",
       "3     2R  20324929  20331038   6109\n",
       "4     3R  19859679  19864278   4599\n",
       "...   ..       ...       ...    ...\n",
       "3825  3R    565835    566082    247\n",
       "3826  2L  10439373  10442085   2712\n",
       "3827  3R   4477321   4479529   2208\n",
       "3828  3L    711347    711871    524\n",
       "3829  2L   6792695   6795077   2382\n",
       "\n",
       "[3830 rows x 4 columns]"
      ]
     },
     "execution_count": 18,
     "metadata": {},
     "output_type": "execute_result"
    }
   ],
   "source": [
    "df_k4.loc[:,\"width\"] = df_k4.loc[:,\"end\"] - df_k4.loc[:,\"start\"]\n",
    "df_k4"
   ]
  },
  {
   "cell_type": "code",
   "execution_count": 19,
   "metadata": {},
   "outputs": [
    {
     "data": {
      "text/html": [
       "<div>\n",
       "<style scoped>\n",
       "    .dataframe tbody tr th:only-of-type {\n",
       "        vertical-align: middle;\n",
       "    }\n",
       "\n",
       "    .dataframe tbody tr th {\n",
       "        vertical-align: top;\n",
       "    }\n",
       "\n",
       "    .dataframe thead th {\n",
       "        text-align: right;\n",
       "    }\n",
       "</style>\n",
       "<table border=\"1\" class=\"dataframe\">\n",
       "  <thead>\n",
       "    <tr style=\"text-align: right;\">\n",
       "      <th></th>\n",
       "      <th>start</th>\n",
       "      <th>end</th>\n",
       "      <th>width</th>\n",
       "    </tr>\n",
       "  </thead>\n",
       "  <tbody>\n",
       "    <tr>\n",
       "      <th>count</th>\n",
       "      <td>3.830000e+03</td>\n",
       "      <td>3.830000e+03</td>\n",
       "      <td>3830.000000</td>\n",
       "    </tr>\n",
       "    <tr>\n",
       "      <th>mean</th>\n",
       "      <td>1.232288e+07</td>\n",
       "      <td>1.232466e+07</td>\n",
       "      <td>1779.086684</td>\n",
       "    </tr>\n",
       "    <tr>\n",
       "      <th>std</th>\n",
       "      <td>7.711626e+06</td>\n",
       "      <td>7.711810e+06</td>\n",
       "      <td>1927.396833</td>\n",
       "    </tr>\n",
       "    <tr>\n",
       "      <th>min</th>\n",
       "      <td>5.082000e+03</td>\n",
       "      <td>6.616000e+03</td>\n",
       "      <td>1.000000</td>\n",
       "    </tr>\n",
       "    <tr>\n",
       "      <th>25%</th>\n",
       "      <td>6.069285e+06</td>\n",
       "      <td>6.070038e+06</td>\n",
       "      <td>388.250000</td>\n",
       "    </tr>\n",
       "    <tr>\n",
       "      <th>50%</th>\n",
       "      <td>1.128937e+07</td>\n",
       "      <td>1.128951e+07</td>\n",
       "      <td>1114.000000</td>\n",
       "    </tr>\n",
       "    <tr>\n",
       "      <th>75%</th>\n",
       "      <td>1.828572e+07</td>\n",
       "      <td>1.828875e+07</td>\n",
       "      <td>2389.000000</td>\n",
       "    </tr>\n",
       "    <tr>\n",
       "      <th>max</th>\n",
       "      <td>3.206773e+07</td>\n",
       "      <td>3.206836e+07</td>\n",
       "      <td>15877.000000</td>\n",
       "    </tr>\n",
       "  </tbody>\n",
       "</table>\n",
       "</div>"
      ],
      "text/plain": [
       "              start           end         width\n",
       "count  3.830000e+03  3.830000e+03   3830.000000\n",
       "mean   1.232288e+07  1.232466e+07   1779.086684\n",
       "std    7.711626e+06  7.711810e+06   1927.396833\n",
       "min    5.082000e+03  6.616000e+03      1.000000\n",
       "25%    6.069285e+06  6.070038e+06    388.250000\n",
       "50%    1.128937e+07  1.128951e+07   1114.000000\n",
       "75%    1.828572e+07  1.828875e+07   2389.000000\n",
       "max    3.206773e+07  3.206836e+07  15877.000000"
      ]
     },
     "execution_count": 19,
     "metadata": {},
     "output_type": "execute_result"
    }
   ],
   "source": [
    "df_k4.describe()"
   ]
  },
  {
   "cell_type": "code",
   "execution_count": 20,
   "metadata": {},
   "outputs": [
    {
     "data": {
      "image/png": "[encoded data removed]",
      "text/plain": [
       "<Figure size 432x288 with 1 Axes>"
      ]
     },
     "metadata": {
      "needs_background": "light"
     },
     "output_type": "display_data"
    }
   ],
   "source": [
    "fig, ax = plt.subplots()\n",
    "ax.hist( df_k4.loc[:,\"width\"] )\n",
    "plt.show()"
   ]
  },
  {
   "cell_type": "markdown",
   "metadata": {},
   "source": [
    "## Question 1: Subplot K9 K27"
   ]
  },
  {
   "cell_type": "markdown",
   "metadata": {},
   "source": [
    "## Advanced: One plot"
   ]
  },
  {
   "cell_type": "markdown",
   "metadata": {},
   "source": [
    "Can you find one or more ways to make an informative single plot with all three modifications?  Some suggestions:\n",
    "- `np.log2()`\n",
    "- `ax.hist( range, density, cumulative, histtype )`"
   ]
  },
  {
   "cell_type": "markdown",
   "metadata": {},
   "source": [
    "# Summary"
   ]
  },
  {
   "cell_type": "markdown",
   "metadata": {},
   "source": [
    "1. Introduce pandas\n",
    "    - `read_table()`\n",
    "    - `.columns` `.index` `.values`\n",
    "    - `.shape`\n",
    "    - `.loc[]`\n",
    "    - `.value_counts()`\n",
    "    - Vectorized operations\n",
    "    - `.describe()`\n",
    "1. More matplotlib\n",
    "    - `ax.bar()`\n",
    "    - `ax.hist()`"
   ]
  },
  {
   "cell_type": "code",
   "execution_count": null,
   "metadata": {},
   "outputs": [],
   "source": []
  }
 ],
 "metadata": {
  "kernelspec": {
   "display_name": "Python 3",
   "language": "python",
   "name": "python3"
  },
  "language_info": {
   "codemirror_mode": {
    "name": "ipython",
    "version": 3
   },
   "file_extension": ".py",
   "mimetype": "text/x-python",
   "name": "python",
   "nbconvert_exporter": "python",
   "pygments_lexer": "ipython3",
   "version": "3.6.10"
  },
  "toc": {
   "base_numbering": 1,
   "nav_menu": {},
   "number_sections": false,
   "sideBar": true,
   "skip_h1_title": false,
   "title_cell": "Table of Contents",
   "title_sidebar": "Contents",
   "toc_cell": false,
   "toc_position": {},
   "toc_section_display": true,
   "toc_window_display": true
  }
 },
 "nbformat": 4,
 "nbformat_minor": 4
}
