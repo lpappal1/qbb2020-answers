{
 "cells": [
  {
   "cell_type": "markdown",
   "metadata": {},
   "source": [
    "# Part 1: Command Line"
   ]
  },
  {
   "cell_type": "markdown",
   "metadata": {},
   "source": [
    "Question 1:\n",
    "a) mkdir qbb2020-answers\n",
    "b)\n",
    "mkdir ~/qbb2020-answers/day1-lunch\n",
    "mkdir ~/qbb2020-answers/rawdata\n",
    "mv ~/data/results/*.bed ~/qbb2020-answers/day1-lunch\n",
    "mv ~/data/rawdata/SRR072893.fastq ~/qbb2020-answers/rawdata\n",
    "1. My working directory was /Users/cmdb for all commands\n",
    "2. My working directory was /Users/cmdb after each command\n",
    "3. (see above)\n",
    "4.\n",
    "mkdir qbb2020-answers/day1-lunch\n",
    "mkdir qbb2020-answers/rawdata\n",
    "mv data/results/*.bed qbb2020-answers/day1-lunch\n",
    "mv data/rawdata/SRR072893.fastq qbb2020-answers/rawdata"
   ]
  },
  {
   "cell_type": "markdown",
   "metadata": {},
   "source": [
    "Question 2:\n",
    "rm ~/qbb2020-answers/rawdata/SSR0729*"
   ]
  },
  {
   "cell_type": "markdown",
   "metadata": {},
   "source": [
    "Question 3:\n",
    "A) ls -l ~/qbb2020-answers/day1-lunch/genes.bed\n",
    "B) wc -c ~/qbb2020-answers/day1-lunch/genes.bed\n",
    "C) less -S ~/qbb2020-answers/day1-lunch/genes.bed\n",
    "(assuming bed files contain text)"
   ]
  },
  {
   "cell_type": "markdown",
   "metadata": {},
   "source": [
    "# Part 2: Git"
   ]
  },
  {
   "cell_type": "markdown",
   "metadata": {},
   "source": [
    "Question 1: \n",
    "A) git status\n",
    "B) \n",
    "git add hello_world.py\n",
    "git commit -m \"changed language back\"\n",
    "git push"
   ]
  },
  {
   "cell_type": "markdown",
   "metadata": {},
   "source": [
    "# Part 3: "
   ]
  },
  {
   "cell_type": "markdown",
   "metadata": {},
   "source": [
    "Question 1: Syntax Errors\n",
    "1) line 7 should be: df = pandas.read_csv(\"filename\", \"\\t\")\n",
    "2) line 11 should be: pol2_col = df.iloc[:,15]\n",
    "3) line 13: the quotes need to be around the pair, not the key\n",
    "4) line 19: the thing that you're defining should be first  \n",
    "5) I don't understand what this command is supposed to do, but it's not going to acheive the stated goal of creating a new dictionary with keys and pairs from 2 lists. You would need a for loop for that.\n",
    "6) line 26: There needs to be a colon at the end of this line\n",
    "7) line 27: The key, eRP, shouldn't be in quotes\n",
    "8) line 27: there should be 2 equal signs in the boolean\n",
    "9) line 30 should be: print(i)\n",
    "10) You can't call dictionary pairs using a list "
   ]
  },
  {
   "cell_type": "markdown",
   "metadata": {},
   "source": [
    "Question 2: Variable assignment and Pandas\n",
    "A) The error has to do with how the variable is assigned. The code can be fixed by reformatting line 9 as fpkm = fpkms[i]\n",
    "B) \n",
    "df = pd.DataFrame([37.9, 12.3, 0, 13.7, 3.2, 0, 48.6] index= [\"Gata1\", \"Glod5\", \"Was\", \"Wdr13\",  \"Rbm3\", \"Ebp\", \"Porcn\"])\n",
    "df.mean()\n"
   ]
  },
  {
   "cell_type": "markdown",
   "metadata": {},
   "source": [
    "Question 3:\n",
    "A) test_string[2]\n",
    "B) test_string[-1]\n",
    "C) test_string[::-1]\n",
    "D) test_string[1:8:2]\n",
    "E) test_string[3:6]\n",
    "F)new_string = test_string[3:6]\n",
    "new_string[::-1]\n"
   ]
  },
  {
   "cell_type": "markdown",
   "metadata": {},
   "source": [
    "Question 4:\n",
    "A) a list\n",
    "B) dogs.append(\"Duke\")\n",
    "C) yes\n",
    "D)This code will print \"Energy can be free\" because the list contains \"Gibbs\", but no longer contains \"Romeo\" (it was replaced with \"Maggie\")\n"
   ]
  },
  {
   "cell_type": "markdown",
   "metadata": {},
   "source": [
    "Question 5:\n",
    "A) 5 times\n",
    "B) 1 time\n",
    "C)\n",
    "a\n",
    "False\n",
    "Daisy\n",
    "p\n",
    "False\n",
    "Daisy\n",
    "p\n",
    "False\n",
    "Daisy\n",
    "l\n",
    "False\n",
    "Daisy\n",
    "e\n",
    "True\n",
    "Daisy\n",
    "True"
   ]
  },
  {
   "cell_type": "markdown",
   "metadata": {},
   "source": [
    "Question 6:"
   ]
  },
  {
   "cell_type": "code",
   "execution_count": 63,
   "metadata": {},
   "outputs": [
    {
     "ename": "AttributeError",
     "evalue": "module 'numpy.random' has no attribute 'binommial'",
     "output_type": "error",
     "traceback": [
      "\u001b[0;31m---------------------------------------------------------------------------\u001b[0m",
      "\u001b[0;31mAttributeError\u001b[0m                            Traceback (most recent call last)",
      "\u001b[0;32m<ipython-input-63-8864c32ef61a>\u001b[0m in \u001b[0;36m<module>\u001b[0;34m()\u001b[0m\n\u001b[1;32m     24\u001b[0m     \u001b[0mprint\u001b[0m\u001b[0;34m(\u001b[0m\u001b[0mnextGen\u001b[0m\u001b[0;34m)\u001b[0m\u001b[0;34m\u001b[0m\u001b[0;34m\u001b[0m\u001b[0m\n\u001b[1;32m     25\u001b[0m \u001b[0;34m\u001b[0m\u001b[0m\n\u001b[0;32m---> 26\u001b[0;31m \u001b[0mfunction\u001b[0m\u001b[0;34m(\u001b[0m\u001b[0;36m0\u001b[0m\u001b[0;34m,\u001b[0m \u001b[0;32mTrue\u001b[0m\u001b[0;34m,\u001b[0m \u001b[0;36m100\u001b[0m\u001b[0;34m,\u001b[0m \u001b[0;36m0.9\u001b[0m\u001b[0;34m)\u001b[0m\u001b[0;34m\u001b[0m\u001b[0;34m\u001b[0m\u001b[0m\n\u001b[0m\u001b[1;32m     27\u001b[0m \u001b[0mfunction\u001b[0m\u001b[0;34m(\u001b[0m\u001b[0;36m0\u001b[0m\u001b[0;34m,\u001b[0m \u001b[0;32mTrue\u001b[0m\u001b[0;34m,\u001b[0m \u001b[0;36m100\u001b[0m\u001b[0;34m,\u001b[0m \u001b[0;36m0.5\u001b[0m\u001b[0;34m)\u001b[0m\u001b[0;34m\u001b[0m\u001b[0;34m\u001b[0m\u001b[0m\n\u001b[1;32m     28\u001b[0m \u001b[0mfunction\u001b[0m\u001b[0;34m(\u001b[0m\u001b[0;36m1\u001b[0m\u001b[0;34m,\u001b[0m \u001b[0;32mFalse\u001b[0m\u001b[0;34m,\u001b[0m \u001b[0;36m100\u001b[0m\u001b[0;34m,\u001b[0m \u001b[0;36m0.5\u001b[0m\u001b[0;34m)\u001b[0m\u001b[0;34m\u001b[0m\u001b[0;34m\u001b[0m\u001b[0m\n",
      "\u001b[0;32m<ipython-input-63-8864c32ef61a>\u001b[0m in \u001b[0;36mfunction\u001b[0;34m(l, selection, pop_size, sel_coef)\u001b[0m\n\u001b[1;32m     11\u001b[0m         \u001b[0mp\u001b[0m \u001b[0;34m=\u001b[0m \u001b[0mnumAlleleA\u001b[0m\u001b[0;34m*\u001b[0m\u001b[0;34m(\u001b[0m\u001b[0;36m1\u001b[0m\u001b[0;34m+\u001b[0m\u001b[0msel_coef\u001b[0m\u001b[0;34m)\u001b[0m\u001b[0;34m/\u001b[0m\u001b[0;34m(\u001b[0m\u001b[0;36m2\u001b[0m\u001b[0;34m*\u001b[0m\u001b[0mpop_size\u001b[0m\u001b[0;34m)\u001b[0m\u001b[0;34m\u001b[0m\u001b[0;34m\u001b[0m\u001b[0m\n\u001b[1;32m     12\u001b[0m         \u001b[0;32mif\u001b[0m \u001b[0mselection\u001b[0m \u001b[0;34m==\u001b[0m \u001b[0;32mTrue\u001b[0m\u001b[0;34m:\u001b[0m\u001b[0;34m\u001b[0m\u001b[0;34m\u001b[0m\u001b[0m\n\u001b[0;32m---> 13\u001b[0;31m             \u001b[0mnextGen\u001b[0m \u001b[0;34m=\u001b[0m \u001b[0mnp\u001b[0m\u001b[0;34m.\u001b[0m\u001b[0mrandom\u001b[0m\u001b[0;34m.\u001b[0m\u001b[0mbinommial\u001b[0m\u001b[0;34m(\u001b[0m\u001b[0mn\u001b[0m\u001b[0;34m,\u001b[0m\u001b[0mp\u001b[0m\u001b[0;34m)\u001b[0m\u001b[0;34m\u001b[0m\u001b[0;34m\u001b[0m\u001b[0m\n\u001b[0m\u001b[1;32m     14\u001b[0m         \u001b[0;32melif\u001b[0m \u001b[0mselection\u001b[0m \u001b[0;34m==\u001b[0m \u001b[0;32mFalse\u001b[0m\u001b[0;34m:\u001b[0m\u001b[0;34m\u001b[0m\u001b[0;34m\u001b[0m\u001b[0m\n\u001b[1;32m     15\u001b[0m             \u001b[0mp\u001b[0m\u001b[0;34m=\u001b[0m \u001b[0mnumAlleleA\u001b[0m\u001b[0;34m/\u001b[0m\u001b[0;34m(\u001b[0m\u001b[0;36m2\u001b[0m\u001b[0;34m*\u001b[0m\u001b[0mpop_size\u001b[0m\u001b[0;34m)\u001b[0m\u001b[0;34m\u001b[0m\u001b[0;34m\u001b[0m\u001b[0m\n",
      "\u001b[0;31mAttributeError\u001b[0m: module 'numpy.random' has no attribute 'binommial'"
     ]
    }
   ],
   "source": [
    "import numpy as np\n",
    "alleleFreq=0.5\n",
    "selection = True\n",
    "pop_size = 100\n",
    "sel_coeff =0.9\n",
    "\n",
    "def function(l, selection, pop_size, sel_coef):\n",
    "    numAlleleA = alleleFreq * 2 * pop_size\n",
    "    n=2*pop_size\n",
    "    if l == 0:\n",
    "        p = numAlleleA*(1+sel_coef)/(2*pop_size)\n",
    "        if selection == True:\n",
    "            nextGen = np.random.binommial(n,p)\n",
    "        elif selection == False:\n",
    "            p= numAlleleA/(2*pop_size)\n",
    "            nextGen = np.random.binommial(n,p)\n",
    "    elif l == 1:\n",
    "        p=numAlleleA/(2*pop_size)\n",
    "        if selection == True:\n",
    "            nextGen = np.random.binommial(n,p)\n",
    "        elif selection == False:\n",
    "            p= numAlleleA/(2*pop_size)\n",
    "            nextGen = np.random.binommial(n,p)\n",
    "    print(nextGen)\n",
    "\n",
    "function(0, True, 100, 0.9)\n",
    "function(0, True, 100, 0.5)\n",
    "function(1, False, 100, 0.5)\n",
    "function(1, False, 10000, 0.5)"
   ]
  }
 ],
 "metadata": {
  "kernelspec": {
   "display_name": "Python 3",
   "language": "python",
   "name": "python3"
  },
  "language_info": {
   "codemirror_mode": {
    "name": "ipython",
    "version": 3
   },
   "file_extension": ".py",
   "mimetype": "text/x-python",
   "name": "python",
   "nbconvert_exporter": "python",
   "pygments_lexer": "ipython3",
   "version": "3.6.10"
  }
 },
 "nbformat": 4,
 "nbformat_minor": 4
}
