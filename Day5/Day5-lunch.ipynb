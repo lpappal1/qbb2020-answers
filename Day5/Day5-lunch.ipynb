{
 "cells": [
  {
   "cell_type": "code",
   "execution_count": 1,
   "metadata": {},
   "outputs": [
    {
     "data": {
      "text/html": [
       "<div>\n",
       "<style scoped>\n",
       "    .dataframe tbody tr th:only-of-type {\n",
       "        vertical-align: middle;\n",
       "    }\n",
       "\n",
       "    .dataframe tbody tr th {\n",
       "        vertical-align: top;\n",
       "    }\n",
       "\n",
       "    .dataframe thead th {\n",
       "        text-align: right;\n",
       "    }\n",
       "</style>\n",
       "<table border=\"1\" class=\"dataframe\">\n",
       "  <thead>\n",
       "    <tr style=\"text-align: right;\">\n",
       "      <th></th>\n",
       "      <th>Proband_id</th>\n",
       "      <th>Father_age</th>\n",
       "      <th>Mother_age</th>\n",
       "    </tr>\n",
       "  </thead>\n",
       "  <tbody>\n",
       "    <tr>\n",
       "      <th>0</th>\n",
       "      <td>675</td>\n",
       "      <td>31</td>\n",
       "      <td>36</td>\n",
       "    </tr>\n",
       "    <tr>\n",
       "      <th>1</th>\n",
       "      <td>1097</td>\n",
       "      <td>19</td>\n",
       "      <td>19</td>\n",
       "    </tr>\n",
       "    <tr>\n",
       "      <th>2</th>\n",
       "      <td>1230</td>\n",
       "      <td>30</td>\n",
       "      <td>28</td>\n",
       "    </tr>\n",
       "    <tr>\n",
       "      <th>3</th>\n",
       "      <td>1481</td>\n",
       "      <td>32</td>\n",
       "      <td>20</td>\n",
       "    </tr>\n",
       "    <tr>\n",
       "      <th>4</th>\n",
       "      <td>1806</td>\n",
       "      <td>38</td>\n",
       "      <td>34</td>\n",
       "    </tr>\n",
       "    <tr>\n",
       "      <th>...</th>\n",
       "      <td>...</td>\n",
       "      <td>...</td>\n",
       "      <td>...</td>\n",
       "    </tr>\n",
       "    <tr>\n",
       "      <th>391</th>\n",
       "      <td>153657</td>\n",
       "      <td>27</td>\n",
       "      <td>23</td>\n",
       "    </tr>\n",
       "    <tr>\n",
       "      <th>392</th>\n",
       "      <td>154565</td>\n",
       "      <td>36</td>\n",
       "      <td>30</td>\n",
       "    </tr>\n",
       "    <tr>\n",
       "      <th>393</th>\n",
       "      <td>154621</td>\n",
       "      <td>19</td>\n",
       "      <td>18</td>\n",
       "    </tr>\n",
       "    <tr>\n",
       "      <th>394</th>\n",
       "      <td>154810</td>\n",
       "      <td>32</td>\n",
       "      <td>28</td>\n",
       "    </tr>\n",
       "    <tr>\n",
       "      <th>395</th>\n",
       "      <td>154936</td>\n",
       "      <td>30</td>\n",
       "      <td>34</td>\n",
       "    </tr>\n",
       "  </tbody>\n",
       "</table>\n",
       "<p>396 rows × 3 columns</p>\n",
       "</div>"
      ],
      "text/plain": [
       "     Proband_id  Father_age  Mother_age\n",
       "0           675          31          36\n",
       "1          1097          19          19\n",
       "2          1230          30          28\n",
       "3          1481          32          20\n",
       "4          1806          38          34\n",
       "..          ...         ...         ...\n",
       "391      153657          27          23\n",
       "392      154565          36          30\n",
       "393      154621          19          18\n",
       "394      154810          32          28\n",
       "395      154936          30          34\n",
       "\n",
       "[396 rows x 3 columns]"
      ]
     },
     "execution_count": 1,
     "metadata": {},
     "output_type": "execute_result"
    }
   ],
   "source": [
    "import pandas as pd\n",
    "\n",
    "import numpy as np\n",
    "\n",
    "from scipy import stats\n",
    "from matplotlib import pyplot as plt\n",
    "import statsmodels.api as sm\n",
    "import statsmodels.formula.api as smf\n",
    "\n",
    "par_o = pd.read_csv(\"/Users/cmdb/Downloads/aau1043_dnm.csv\")\n",
    "p_ag = pd.read_csv(\"/Users/cmdb/Downloads/aau1043_parental_age.csv\")\n",
    "p_ag\n",
    "#parental_age\n"
   ]
  },
  {
   "cell_type": "code",
   "execution_count": 2,
   "metadata": {},
   "outputs": [],
   "source": [
    "#total = pd.DataFrame[Proband_id].value_counts()"
   ]
  },
  {
   "cell_type": "code",
   "execution_count": 18,
   "metadata": {},
   "outputs": [
    {
     "name": "stdout",
     "output_type": "stream",
     "text": [
      "     Proband_id  Father_age  Mother_age  Mother_Mutations  Father_Mutations\n",
      "213       91410          51          34                10               111\n"
     ]
    },
    {
     "data": {
      "text/html": [
       "<div>\n",
       "<style scoped>\n",
       "    .dataframe tbody tr th:only-of-type {\n",
       "        vertical-align: middle;\n",
       "    }\n",
       "\n",
       "    .dataframe tbody tr th {\n",
       "        vertical-align: top;\n",
       "    }\n",
       "\n",
       "    .dataframe thead th {\n",
       "        text-align: right;\n",
       "    }\n",
       "</style>\n",
       "<table border=\"1\" class=\"dataframe\">\n",
       "  <thead>\n",
       "    <tr style=\"text-align: right;\">\n",
       "      <th></th>\n",
       "      <th>Proband_id</th>\n",
       "      <th>Father_age</th>\n",
       "      <th>Mother_age</th>\n",
       "      <th>Mother_Mutations</th>\n",
       "      <th>Father_Mutations</th>\n",
       "    </tr>\n",
       "  </thead>\n",
       "  <tbody>\n",
       "    <tr>\n",
       "      <th>0</th>\n",
       "      <td>675</td>\n",
       "      <td>31</td>\n",
       "      <td>36</td>\n",
       "      <td>19</td>\n",
       "      <td>51</td>\n",
       "    </tr>\n",
       "    <tr>\n",
       "      <th>1</th>\n",
       "      <td>1097</td>\n",
       "      <td>19</td>\n",
       "      <td>19</td>\n",
       "      <td>12</td>\n",
       "      <td>26</td>\n",
       "    </tr>\n",
       "    <tr>\n",
       "      <th>2</th>\n",
       "      <td>1230</td>\n",
       "      <td>30</td>\n",
       "      <td>28</td>\n",
       "      <td>12</td>\n",
       "      <td>42</td>\n",
       "    </tr>\n",
       "    <tr>\n",
       "      <th>3</th>\n",
       "      <td>1481</td>\n",
       "      <td>32</td>\n",
       "      <td>20</td>\n",
       "      <td>14</td>\n",
       "      <td>53</td>\n",
       "    </tr>\n",
       "    <tr>\n",
       "      <th>4</th>\n",
       "      <td>1806</td>\n",
       "      <td>38</td>\n",
       "      <td>34</td>\n",
       "      <td>11</td>\n",
       "      <td>61</td>\n",
       "    </tr>\n",
       "    <tr>\n",
       "      <th>...</th>\n",
       "      <td>...</td>\n",
       "      <td>...</td>\n",
       "      <td>...</td>\n",
       "      <td>...</td>\n",
       "      <td>...</td>\n",
       "    </tr>\n",
       "    <tr>\n",
       "      <th>391</th>\n",
       "      <td>153657</td>\n",
       "      <td>27</td>\n",
       "      <td>23</td>\n",
       "      <td>8</td>\n",
       "      <td>41</td>\n",
       "    </tr>\n",
       "    <tr>\n",
       "      <th>392</th>\n",
       "      <td>154565</td>\n",
       "      <td>36</td>\n",
       "      <td>30</td>\n",
       "      <td>14</td>\n",
       "      <td>61</td>\n",
       "    </tr>\n",
       "    <tr>\n",
       "      <th>393</th>\n",
       "      <td>154621</td>\n",
       "      <td>19</td>\n",
       "      <td>18</td>\n",
       "      <td>11</td>\n",
       "      <td>39</td>\n",
       "    </tr>\n",
       "    <tr>\n",
       "      <th>394</th>\n",
       "      <td>154810</td>\n",
       "      <td>32</td>\n",
       "      <td>28</td>\n",
       "      <td>14</td>\n",
       "      <td>55</td>\n",
       "    </tr>\n",
       "    <tr>\n",
       "      <th>395</th>\n",
       "      <td>154936</td>\n",
       "      <td>30</td>\n",
       "      <td>34</td>\n",
       "      <td>16</td>\n",
       "      <td>36</td>\n",
       "    </tr>\n",
       "  </tbody>\n",
       "</table>\n",
       "<p>396 rows × 5 columns</p>\n",
       "</div>"
      ],
      "text/plain": [
       "     Proband_id  Father_age  Mother_age  Mother_Mutations  Father_Mutations\n",
       "0           675          31          36                19                51\n",
       "1          1097          19          19                12                26\n",
       "2          1230          30          28                12                42\n",
       "3          1481          32          20                14                53\n",
       "4          1806          38          34                11                61\n",
       "..          ...         ...         ...               ...               ...\n",
       "391      153657          27          23                 8                41\n",
       "392      154565          36          30                14                61\n",
       "393      154621          19          18                11                39\n",
       "394      154810          32          28                14                55\n",
       "395      154936          30          34                16                36\n",
       "\n",
       "[396 rows x 5 columns]"
      ]
     },
     "execution_count": 18,
     "metadata": {},
     "output_type": "execute_result"
    }
   ],
   "source": [
    "# Proband_id, pat_dnm, mat_dnm, tot_dnm\n",
    "\n",
    "#mutations = par_o[\"Proband_id\"].value_counts()\n",
    "\n",
    "#Prob_id = pd.DataFrame(par_o[\"Proband_id\"].value_counts())\n",
    "#Prob_mom = pd.DataFrame((par_o[\"Phase_combined\"] == \"mother\").value_counts())\n",
    "#Prob_dad = pd.DataFrame((par_o[\"Phase_combined\"] == \"father\").value_counts())\n",
    "#Prob_combined = pd.DataFrame(par_o[\"Phase_combined\"].value_counts())\n",
    "\n",
    "\n",
    "\n",
    "#Prob_id.index.name('Proband_id')\n",
    "#Prob_id.reset_index()\n",
    "\n",
    "prob_id = par_o[\"Proband_id\"]\n",
    "mom = par_o[par_o[\"Phase_combined\"] == \"mother\"]\n",
    "dad = par_o[par_o[\"Phase_combined\"] == \"father\"]\n",
    "combined = par_o[\"Phase_combined\"]\n",
    "\n",
    "Prob_mom = mom[\"Proband_id\"].value_counts().rename_axis(\"Proband_id\").reset_index(name= \"Mother_Mutations\")\n",
    "Prob_dad = dad[\"Proband_id\"].value_counts().rename_axis(\"Proband_id\").reset_index(name= \"Father_Mutations\")\n",
    "\n",
    "FF= pd.merge(Prob_mom, Prob_dad, on=\"Proband_id\")\n",
    "\n",
    "MUT = pd.merge(p_ag, FF, on=\"Proband_id\")\n",
    "#prob_id['Prob_id'] = Prob_id\n",
    "\n",
    "MUT\n",
    "\n"
   ]
  },
  {
   "cell_type": "markdown",
   "metadata": {},
   "source": [
    "# Question 5"
   ]
  },
  {
   "cell_type": "code",
   "execution_count": 4,
   "metadata": {},
   "outputs": [
    {
     "data": {
      "image/png": "[encoded data removed]",
      "text/plain": [
       "<Figure size 432x288 with 1 Axes>"
      ]
     },
     "metadata": {
      "needs_background": "light"
     },
     "output_type": "display_data"
    }
   ],
   "source": [
    "fig,ax = plt.subplots()\n",
    "ax.scatter(MUT[\"Mother_age\"], MUT[\"Mother_Mutations\"])\n",
    "plt.show()"
   ]
  },
  {
   "cell_type": "code",
   "execution_count": 5,
   "metadata": {},
   "outputs": [
    {
     "data": {
      "image/png": "[encoded data removed]",
      "text/plain": [
       "<Figure size 432x288 with 1 Axes>"
      ]
     },
     "metadata": {
      "needs_background": "light"
     },
     "output_type": "display_data"
    }
   ],
   "source": [
    "fig,ax = plt.subplots()\n",
    "ax.scatter(MUT[\"Father_age\"], MUT[\"Father_Mutations\"])\n",
    "plt.show()"
   ]
  },
  {
   "cell_type": "markdown",
   "metadata": {},
   "source": [
    "# Question 6"
   ]
  },
  {
   "cell_type": "code",
   "execution_count": 17,
   "metadata": {
    "scrolled": true
   },
   "outputs": [
    {
     "data": {
      "text/html": [
       "<table class=\"simpletable\">\n",
       "<caption>OLS Regression Results</caption>\n",
       "<tr>\n",
       "  <th>Dep. Variable:</th>    <td>Mother_Mutations</td> <th>  R-squared:         </th> <td>   0.228</td>\n",
       "</tr>\n",
       "<tr>\n",
       "  <th>Model:</th>                   <td>OLS</td>       <th>  Adj. R-squared:    </th> <td>   0.226</td>\n",
       "</tr>\n",
       "<tr>\n",
       "  <th>Method:</th>             <td>Least Squares</td>  <th>  F-statistic:       </th> <td>   116.0</td>\n",
       "</tr>\n",
       "<tr>\n",
       "  <th>Date:</th>             <td>Thu, 10 Sep 2020</td> <th>  Prob (F-statistic):</th> <td>6.88e-24</td>\n",
       "</tr>\n",
       "<tr>\n",
       "  <th>Time:</th>                 <td>19:46:15</td>     <th>  Log-Likelihood:    </th> <td> -1158.1</td>\n",
       "</tr>\n",
       "<tr>\n",
       "  <th>No. Observations:</th>      <td>   396</td>      <th>  AIC:               </th> <td>   2320.</td>\n",
       "</tr>\n",
       "<tr>\n",
       "  <th>Df Residuals:</th>          <td>   394</td>      <th>  BIC:               </th> <td>   2328.</td>\n",
       "</tr>\n",
       "<tr>\n",
       "  <th>Df Model:</th>              <td>     1</td>      <th>                     </th>     <td> </td>   \n",
       "</tr>\n",
       "<tr>\n",
       "  <th>Covariance Type:</th>      <td>nonrobust</td>    <th>                     </th>     <td> </td>   \n",
       "</tr>\n",
       "</table>\n",
       "<table class=\"simpletable\">\n",
       "<tr>\n",
       "       <td></td>         <th>coef</th>     <th>std err</th>      <th>t</th>      <th>P>|t|</th>  <th>[0.025</th>    <th>0.975]</th>  \n",
       "</tr>\n",
       "<tr>\n",
       "  <th>Intercept</th>  <td>    2.5040</td> <td>    0.981</td> <td>    2.553</td> <td> 0.011</td> <td>    0.576</td> <td>    4.432</td>\n",
       "</tr>\n",
       "<tr>\n",
       "  <th>Mother_age</th> <td>    0.3776</td> <td>    0.035</td> <td>   10.772</td> <td> 0.000</td> <td>    0.309</td> <td>    0.446</td>\n",
       "</tr>\n",
       "</table>\n",
       "<table class=\"simpletable\">\n",
       "<tr>\n",
       "  <th>Omnibus:</th>       <td>51.143</td> <th>  Durbin-Watson:     </th> <td>   2.090</td>\n",
       "</tr>\n",
       "<tr>\n",
       "  <th>Prob(Omnibus):</th> <td> 0.000</td> <th>  Jarque-Bera (JB):  </th> <td>  75.501</td>\n",
       "</tr>\n",
       "<tr>\n",
       "  <th>Skew:</th>          <td> 0.845</td> <th>  Prob(JB):          </th> <td>4.03e-17</td>\n",
       "</tr>\n",
       "<tr>\n",
       "  <th>Kurtosis:</th>      <td> 4.310</td> <th>  Cond. No.          </th> <td>    121.</td>\n",
       "</tr>\n",
       "</table><br/><br/>Notes:<br/>[1] Standard Errors assume that the covariance matrix of the errors is correctly specified."
      ],
      "text/plain": [
       "<class 'statsmodels.iolib.summary.Summary'>\n",
       "\"\"\"\n",
       "                            OLS Regression Results                            \n",
       "==============================================================================\n",
       "Dep. Variable:       Mother_Mutations   R-squared:                       0.228\n",
       "Model:                            OLS   Adj. R-squared:                  0.226\n",
       "Method:                 Least Squares   F-statistic:                     116.0\n",
       "Date:                Thu, 10 Sep 2020   Prob (F-statistic):           6.88e-24\n",
       "Time:                        19:46:15   Log-Likelihood:                -1158.1\n",
       "No. Observations:                 396   AIC:                             2320.\n",
       "Df Residuals:                     394   BIC:                             2328.\n",
       "Df Model:                           1                                         \n",
       "Covariance Type:            nonrobust                                         \n",
       "==============================================================================\n",
       "                 coef    std err          t      P>|t|      [0.025      0.975]\n",
       "------------------------------------------------------------------------------\n",
       "Intercept      2.5040      0.981      2.553      0.011       0.576       4.432\n",
       "Mother_age     0.3776      0.035     10.772      0.000       0.309       0.446\n",
       "==============================================================================\n",
       "Omnibus:                       51.143   Durbin-Watson:                   2.090\n",
       "Prob(Omnibus):                  0.000   Jarque-Bera (JB):               75.501\n",
       "Skew:                           0.845   Prob(JB):                     4.03e-17\n",
       "Kurtosis:                       4.310   Cond. No.                         121.\n",
       "==============================================================================\n",
       "\n",
       "Notes:\n",
       "[1] Standard Errors assume that the covariance matrix of the errors is correctly specified.\n",
       "\"\"\""
      ]
     },
     "execution_count": 17,
     "metadata": {},
     "output_type": "execute_result"
    }
   ],
   "source": [
    "model = smf.ols(formula=\"Mother_Mutations ~ Mother_age\", data = MUT)\n",
    "results = model.fit()\n",
    "results.summary()"
   ]
  },
  {
   "cell_type": "markdown",
   "metadata": {},
   "source": [
    "#### a. yes, the relationship is significant because the p values is less than 0.00\n",
    "#### b. the correlation coefficient is 0.6"
   ]
  },
  {
   "cell_type": "markdown",
   "metadata": {},
   "source": [
    "# Question 7"
   ]
  },
  {
   "cell_type": "code",
   "execution_count": 19,
   "metadata": {},
   "outputs": [
    {
     "data": {
      "text/html": [
       "<table class=\"simpletable\">\n",
       "<caption>OLS Regression Results</caption>\n",
       "<tr>\n",
       "  <th>Dep. Variable:</th>       <td>Father_age</td>    <th>  R-squared:         </th> <td>   0.619</td>\n",
       "</tr>\n",
       "<tr>\n",
       "  <th>Model:</th>                   <td>OLS</td>       <th>  Adj. R-squared:    </th> <td>   0.618</td>\n",
       "</tr>\n",
       "<tr>\n",
       "  <th>Method:</th>             <td>Least Squares</td>  <th>  F-statistic:       </th> <td>   639.6</td>\n",
       "</tr>\n",
       "<tr>\n",
       "  <th>Date:</th>             <td>Thu, 10 Sep 2020</td> <th>  Prob (F-statistic):</th> <td>1.55e-84</td>\n",
       "</tr>\n",
       "<tr>\n",
       "  <th>Time:</th>                 <td>19:50:32</td>     <th>  Log-Likelihood:    </th> <td> -1191.6</td>\n",
       "</tr>\n",
       "<tr>\n",
       "  <th>No. Observations:</th>      <td>   396</td>      <th>  AIC:               </th> <td>   2387.</td>\n",
       "</tr>\n",
       "<tr>\n",
       "  <th>Df Residuals:</th>          <td>   394</td>      <th>  BIC:               </th> <td>   2395.</td>\n",
       "</tr>\n",
       "<tr>\n",
       "  <th>Df Model:</th>              <td>     1</td>      <th>                     </th>     <td> </td>   \n",
       "</tr>\n",
       "<tr>\n",
       "  <th>Covariance Type:</th>      <td>nonrobust</td>    <th>                     </th>     <td> </td>   \n",
       "</tr>\n",
       "</table>\n",
       "<table class=\"simpletable\">\n",
       "<tr>\n",
       "          <td></td>            <th>coef</th>     <th>std err</th>      <th>t</th>      <th>P>|t|</th>  <th>[0.025</th>    <th>0.975]</th>  \n",
       "</tr>\n",
       "<tr>\n",
       "  <th>Intercept</th>        <td>    7.0178</td> <td>    0.972</td> <td>    7.220</td> <td> 0.000</td> <td>    5.107</td> <td>    8.929</td>\n",
       "</tr>\n",
       "<tr>\n",
       "  <th>Father_Mutations</th> <td>    0.4571</td> <td>    0.018</td> <td>   25.291</td> <td> 0.000</td> <td>    0.422</td> <td>    0.493</td>\n",
       "</tr>\n",
       "</table>\n",
       "<table class=\"simpletable\">\n",
       "<tr>\n",
       "  <th>Omnibus:</th>       <td> 3.967</td> <th>  Durbin-Watson:     </th> <td>   1.772</td>\n",
       "</tr>\n",
       "<tr>\n",
       "  <th>Prob(Omnibus):</th> <td> 0.138</td> <th>  Jarque-Bera (JB):  </th> <td>   3.721</td>\n",
       "</tr>\n",
       "<tr>\n",
       "  <th>Skew:</th>          <td> 0.226</td> <th>  Prob(JB):          </th> <td>   0.156</td>\n",
       "</tr>\n",
       "<tr>\n",
       "  <th>Kurtosis:</th>      <td> 3.146</td> <th>  Cond. No.          </th> <td>    212.</td>\n",
       "</tr>\n",
       "</table><br/><br/>Notes:<br/>[1] Standard Errors assume that the covariance matrix of the errors is correctly specified."
      ],
      "text/plain": [
       "<class 'statsmodels.iolib.summary.Summary'>\n",
       "\"\"\"\n",
       "                            OLS Regression Results                            \n",
       "==============================================================================\n",
       "Dep. Variable:             Father_age   R-squared:                       0.619\n",
       "Model:                            OLS   Adj. R-squared:                  0.618\n",
       "Method:                 Least Squares   F-statistic:                     639.6\n",
       "Date:                Thu, 10 Sep 2020   Prob (F-statistic):           1.55e-84\n",
       "Time:                        19:50:32   Log-Likelihood:                -1191.6\n",
       "No. Observations:                 396   AIC:                             2387.\n",
       "Df Residuals:                     394   BIC:                             2395.\n",
       "Df Model:                           1                                         \n",
       "Covariance Type:            nonrobust                                         \n",
       "====================================================================================\n",
       "                       coef    std err          t      P>|t|      [0.025      0.975]\n",
       "------------------------------------------------------------------------------------\n",
       "Intercept            7.0178      0.972      7.220      0.000       5.107       8.929\n",
       "Father_Mutations     0.4571      0.018     25.291      0.000       0.422       0.493\n",
       "==============================================================================\n",
       "Omnibus:                        3.967   Durbin-Watson:                   1.772\n",
       "Prob(Omnibus):                  0.138   Jarque-Bera (JB):                3.721\n",
       "Skew:                           0.226   Prob(JB):                        0.156\n",
       "Kurtosis:                       3.146   Cond. No.                         212.\n",
       "==============================================================================\n",
       "\n",
       "Notes:\n",
       "[1] Standard Errors assume that the covariance matrix of the errors is correctly specified.\n",
       "\"\"\""
      ]
     },
     "execution_count": 19,
     "metadata": {},
     "output_type": "execute_result"
    }
   ],
   "source": [
    "model1 = smf.ols(formula=\"Father_age ~ Father_Mutations\", data = MUT)\n",
    "results1 = model1.fit()\n",
    "results1.summary()"
   ]
  },
  {
   "cell_type": "markdown",
   "metadata": {},
   "source": [
    "#### a. yes, the relationship is significant because the p values is less than 0.00\n",
    "#### b. the correlation coefficient is 0.46"
   ]
  },
  {
   "cell_type": "markdown",
   "metadata": {},
   "source": [
    "# Question 8"
   ]
  },
  {
   "cell_type": "code",
   "execution_count": 8,
   "metadata": {},
   "outputs": [
    {
     "name": "stdout",
     "output_type": "stream",
     "text": [
      "31\n",
      "94\n"
     ]
    }
   ],
   "source": [
    "Mother_bins = int((max(MUT[\"Mother_Mutations\"])-min(MUT[\"Mother_Mutations\"]))/3)\n",
    "Father_bins = int((max(MUT[\"Father_Mutations\"])-min(MUT[\"Father_Mutations\"]))/3)\n",
    "\n",
    "print(max(MUT[\"Mother_Mutations\"])-min(MUT[\"Mother_Mutations\"]))\n",
    "print(max(MUT[\"Father_Mutations\"])-min(MUT[\"Father_Mutations\"]))"
   ]
  },
  {
   "cell_type": "code",
   "execution_count": 9,
   "metadata": {},
   "outputs": [
    {
     "data": {
      "image/png": "[encoded data removed]",
      "text/plain": [
       "<Figure size 432x288 with 1 Axes>"
      ]
     },
     "metadata": {
      "needs_background": "light"
     },
     "output_type": "display_data"
    }
   ],
   "source": [
    "fig,ax = plt.subplots()\n",
    "ax.hist(MUT[\"Proband_id\"][MUT[\"Mother_Mutations\"]], bins =Mother_bins, alpha =0.5)\n",
    "ax.hist(MUT[\"Proband_id\"][MUT[\"Father_Mutations\"]], bins =Father_bins, alpha = 0.5)\n",
    "plt.show()"
   ]
  },
  {
   "cell_type": "markdown",
   "metadata": {},
   "source": [
    "# Question 9"
   ]
  },
  {
   "cell_type": "code",
   "execution_count": 10,
   "metadata": {
    "scrolled": true
   },
   "outputs": [
    {
     "data": {
      "text/plain": [
       "Ttest_indResult(statistic=-63.904595461743035, pvalue=2.219919015e-314)"
      ]
     },
     "execution_count": 10,
     "metadata": {},
     "output_type": "execute_result"
    }
   ],
   "source": [
    "stats.ttest_ind(MUT[\"Proband_id\"][MUT[\"Mother_Mutations\"]], MUT[\"Proband_id\"][MUT[\"Father_Mutations\"]])"
   ]
  },
  {
   "cell_type": "markdown",
   "metadata": {},
   "source": [
    "# Question 10"
   ]
  },
  {
   "cell_type": "code",
   "execution_count": 11,
   "metadata": {},
   "outputs": [
    {
     "data": {
      "text/html": [
       "<table class=\"simpletable\">\n",
       "<caption>OLS Regression Results</caption>\n",
       "<tr>\n",
       "  <th>Dep. Variable:</th>       <td>Father_age</td>    <th>  R-squared:         </th> <td>   0.619</td>\n",
       "</tr>\n",
       "<tr>\n",
       "  <th>Model:</th>                   <td>OLS</td>       <th>  Adj. R-squared:    </th> <td>   0.618</td>\n",
       "</tr>\n",
       "<tr>\n",
       "  <th>Method:</th>             <td>Least Squares</td>  <th>  F-statistic:       </th> <td>   639.6</td>\n",
       "</tr>\n",
       "<tr>\n",
       "  <th>Date:</th>             <td>Thu, 10 Sep 2020</td> <th>  Prob (F-statistic):</th> <td>1.55e-84</td>\n",
       "</tr>\n",
       "<tr>\n",
       "  <th>Time:</th>                 <td>19:42:45</td>     <th>  Log-Likelihood:    </th> <td> -1191.6</td>\n",
       "</tr>\n",
       "<tr>\n",
       "  <th>No. Observations:</th>      <td>   396</td>      <th>  AIC:               </th> <td>   2387.</td>\n",
       "</tr>\n",
       "<tr>\n",
       "  <th>Df Residuals:</th>          <td>   394</td>      <th>  BIC:               </th> <td>   2395.</td>\n",
       "</tr>\n",
       "<tr>\n",
       "  <th>Df Model:</th>              <td>     1</td>      <th>                     </th>     <td> </td>   \n",
       "</tr>\n",
       "<tr>\n",
       "  <th>Covariance Type:</th>      <td>nonrobust</td>    <th>                     </th>     <td> </td>   \n",
       "</tr>\n",
       "</table>\n",
       "<table class=\"simpletable\">\n",
       "<tr>\n",
       "          <td></td>            <th>coef</th>     <th>std err</th>      <th>t</th>      <th>P>|t|</th>  <th>[0.025</th>    <th>0.975]</th>  \n",
       "</tr>\n",
       "<tr>\n",
       "  <th>Intercept</th>        <td>    7.0178</td> <td>    0.972</td> <td>    7.220</td> <td> 0.000</td> <td>    5.107</td> <td>    8.929</td>\n",
       "</tr>\n",
       "<tr>\n",
       "  <th>Father_Mutations</th> <td>    0.4571</td> <td>    0.018</td> <td>   25.291</td> <td> 0.000</td> <td>    0.422</td> <td>    0.493</td>\n",
       "</tr>\n",
       "</table>\n",
       "<table class=\"simpletable\">\n",
       "<tr>\n",
       "  <th>Omnibus:</th>       <td> 3.967</td> <th>  Durbin-Watson:     </th> <td>   1.772</td>\n",
       "</tr>\n",
       "<tr>\n",
       "  <th>Prob(Omnibus):</th> <td> 0.138</td> <th>  Jarque-Bera (JB):  </th> <td>   3.721</td>\n",
       "</tr>\n",
       "<tr>\n",
       "  <th>Skew:</th>          <td> 0.226</td> <th>  Prob(JB):          </th> <td>   0.156</td>\n",
       "</tr>\n",
       "<tr>\n",
       "  <th>Kurtosis:</th>      <td> 3.146</td> <th>  Cond. No.          </th> <td>    212.</td>\n",
       "</tr>\n",
       "</table><br/><br/>Notes:<br/>[1] Standard Errors assume that the covariance matrix of the errors is correctly specified."
      ],
      "text/plain": [
       "<class 'statsmodels.iolib.summary.Summary'>\n",
       "\"\"\"\n",
       "                            OLS Regression Results                            \n",
       "==============================================================================\n",
       "Dep. Variable:             Father_age   R-squared:                       0.619\n",
       "Model:                            OLS   Adj. R-squared:                  0.618\n",
       "Method:                 Least Squares   F-statistic:                     639.6\n",
       "Date:                Thu, 10 Sep 2020   Prob (F-statistic):           1.55e-84\n",
       "Time:                        19:42:45   Log-Likelihood:                -1191.6\n",
       "No. Observations:                 396   AIC:                             2387.\n",
       "Df Residuals:                     394   BIC:                             2395.\n",
       "Df Model:                           1                                         \n",
       "Covariance Type:            nonrobust                                         \n",
       "====================================================================================\n",
       "                       coef    std err          t      P>|t|      [0.025      0.975]\n",
       "------------------------------------------------------------------------------------\n",
       "Intercept            7.0178      0.972      7.220      0.000       5.107       8.929\n",
       "Father_Mutations     0.4571      0.018     25.291      0.000       0.422       0.493\n",
       "==============================================================================\n",
       "Omnibus:                        3.967   Durbin-Watson:                   1.772\n",
       "Prob(Omnibus):                  0.138   Jarque-Bera (JB):                3.721\n",
       "Skew:                           0.226   Prob(JB):                        0.156\n",
       "Kurtosis:                       3.146   Cond. No.                         212.\n",
       "==============================================================================\n",
       "\n",
       "Notes:\n",
       "[1] Standard Errors assume that the covariance matrix of the errors is correctly specified.\n",
       "\"\"\""
      ]
     },
     "execution_count": 11,
     "metadata": {},
     "output_type": "execute_result"
    }
   ],
   "source": [
    "smf.poisson(formula=\"Mother_age ~ Mother_Mutations\", data = MUT)\n",
    "results = model.fit()\n",
    "results.summary()"
   ]
  },
  {
   "cell_type": "code",
   "execution_count": 20,
   "metadata": {},
   "outputs": [
    {
     "name": "stdout",
     "output_type": "stream",
     "text": [
      "Optimization terminated successfully.\n",
      "         Current function value: 3.141794\n",
      "         Iterations 4\n"
     ]
    },
    {
     "data": {
      "text/html": [
       "<table class=\"simpletable\">\n",
       "<caption>Poisson Regression Results</caption>\n",
       "<tr>\n",
       "  <th>Dep. Variable:</th>      <td>Mother_age</td>    <th>  No. Observations:  </th>  <td>   396</td>  \n",
       "</tr>\n",
       "<tr>\n",
       "  <th>Model:</th>                <td>Poisson</td>     <th>  Df Residuals:      </th>  <td>   394</td>  \n",
       "</tr>\n",
       "<tr>\n",
       "  <th>Method:</th>                 <td>MLE</td>       <th>  Df Model:          </th>  <td>     1</td>  \n",
       "</tr>\n",
       "<tr>\n",
       "  <th>Date:</th>            <td>Thu, 10 Sep 2020</td> <th>  Pseudo R-squ.:     </th>  <td>0.05120</td> \n",
       "</tr>\n",
       "<tr>\n",
       "  <th>Time:</th>                <td>19:51:06</td>     <th>  Log-Likelihood:    </th> <td> -1244.2</td> \n",
       "</tr>\n",
       "<tr>\n",
       "  <th>converged:</th>             <td>True</td>       <th>  LL-Null:           </th> <td> -1311.3</td> \n",
       "</tr>\n",
       "<tr>\n",
       "  <th>Covariance Type:</th>     <td>nonrobust</td>    <th>  LLR p-value:       </th> <td>4.765e-31</td>\n",
       "</tr>\n",
       "</table>\n",
       "<table class=\"simpletable\">\n",
       "<tr>\n",
       "          <td></td>            <th>coef</th>     <th>std err</th>      <th>z</th>      <th>P>|z|</th>  <th>[0.025</th>    <th>0.975]</th>  \n",
       "</tr>\n",
       "<tr>\n",
       "  <th>Intercept</th>        <td>    3.0289</td> <td>    0.026</td> <td>  117.716</td> <td> 0.000</td> <td>    2.978</td> <td>    3.079</td>\n",
       "</tr>\n",
       "<tr>\n",
       "  <th>Mother_Mutations</th> <td>    0.0210</td> <td>    0.002</td> <td>   11.785</td> <td> 0.000</td> <td>    0.018</td> <td>    0.025</td>\n",
       "</tr>\n",
       "</table>"
      ],
      "text/plain": [
       "<class 'statsmodels.iolib.summary.Summary'>\n",
       "\"\"\"\n",
       "                          Poisson Regression Results                          \n",
       "==============================================================================\n",
       "Dep. Variable:             Mother_age   No. Observations:                  396\n",
       "Model:                        Poisson   Df Residuals:                      394\n",
       "Method:                           MLE   Df Model:                            1\n",
       "Date:                Thu, 10 Sep 2020   Pseudo R-squ.:                 0.05120\n",
       "Time:                        19:51:06   Log-Likelihood:                -1244.2\n",
       "converged:                       True   LL-Null:                       -1311.3\n",
       "Covariance Type:            nonrobust   LLR p-value:                 4.765e-31\n",
       "====================================================================================\n",
       "                       coef    std err          z      P>|z|      [0.025      0.975]\n",
       "------------------------------------------------------------------------------------\n",
       "Intercept            3.0289      0.026    117.716      0.000       2.978       3.079\n",
       "Mother_Mutations     0.0210      0.002     11.785      0.000       0.018       0.025\n",
       "====================================================================================\n",
       "\"\"\""
      ]
     },
     "execution_count": 20,
     "metadata": {},
     "output_type": "execute_result"
    }
   ],
   "source": [
    "model = smf.poisson(formula=\"Mother_age ~ Mother_Mutations\", data = MUT)\n",
    "results = model.fit()\n",
    "results.summary()"
   ]
  },
  {
   "cell_type": "code",
   "execution_count": 21,
   "metadata": {},
   "outputs": [
    {
     "name": "stdout",
     "output_type": "stream",
     "text": [
      "Optimization terminated successfully.\n",
      "         Current function value: 3.578620\n",
      "         Iterations 5\n"
     ]
    },
    {
     "data": {
      "text/html": [
       "<table class=\"simpletable\">\n",
       "<caption>Poisson Regression Results</caption>\n",
       "<tr>\n",
       "  <th>Dep. Variable:</th>   <td>Father_Mutations</td> <th>  No. Observations:  </th>   <td>   396</td>  \n",
       "</tr>\n",
       "<tr>\n",
       "  <th>Model:</th>                <td>Poisson</td>     <th>  Df Residuals:      </th>   <td>   394</td>  \n",
       "</tr>\n",
       "<tr>\n",
       "  <th>Method:</th>                 <td>MLE</td>       <th>  Df Model:          </th>   <td>     1</td>  \n",
       "</tr>\n",
       "<tr>\n",
       "  <th>Date:</th>            <td>Thu, 10 Sep 2020</td> <th>  Pseudo R-squ.:     </th>   <td>0.2277</td>  \n",
       "</tr>\n",
       "<tr>\n",
       "  <th>Time:</th>                <td>19:51:29</td>     <th>  Log-Likelihood:    </th>  <td> -1417.1</td> \n",
       "</tr>\n",
       "<tr>\n",
       "  <th>converged:</th>             <td>True</td>       <th>  LL-Null:           </th>  <td> -1834.9</td> \n",
       "</tr>\n",
       "<tr>\n",
       "  <th>Covariance Type:</th>     <td>nonrobust</td>    <th>  LLR p-value:       </th> <td>1.004e-183</td>\n",
       "</tr>\n",
       "</table>\n",
       "<table class=\"simpletable\">\n",
       "<tr>\n",
       "       <td></td>         <th>coef</th>     <th>std err</th>      <th>z</th>      <th>P>|z|</th>  <th>[0.025</th>    <th>0.975]</th>  \n",
       "</tr>\n",
       "<tr>\n",
       "  <th>Intercept</th>  <td>    3.1903</td> <td>    0.027</td> <td>  116.856</td> <td> 0.000</td> <td>    3.137</td> <td>    3.244</td>\n",
       "</tr>\n",
       "<tr>\n",
       "  <th>Father_age</th> <td>    0.0241</td> <td>    0.001</td> <td>   29.608</td> <td> 0.000</td> <td>    0.023</td> <td>    0.026</td>\n",
       "</tr>\n",
       "</table>"
      ],
      "text/plain": [
       "<class 'statsmodels.iolib.summary.Summary'>\n",
       "\"\"\"\n",
       "                          Poisson Regression Results                          \n",
       "==============================================================================\n",
       "Dep. Variable:       Father_Mutations   No. Observations:                  396\n",
       "Model:                        Poisson   Df Residuals:                      394\n",
       "Method:                           MLE   Df Model:                            1\n",
       "Date:                Thu, 10 Sep 2020   Pseudo R-squ.:                  0.2277\n",
       "Time:                        19:51:29   Log-Likelihood:                -1417.1\n",
       "converged:                       True   LL-Null:                       -1834.9\n",
       "Covariance Type:            nonrobust   LLR p-value:                1.004e-183\n",
       "==============================================================================\n",
       "                 coef    std err          z      P>|z|      [0.025      0.975]\n",
       "------------------------------------------------------------------------------\n",
       "Intercept      3.1903      0.027    116.856      0.000       3.137       3.244\n",
       "Father_age     0.0241      0.001     29.608      0.000       0.023       0.026\n",
       "==============================================================================\n",
       "\"\"\""
      ]
     },
     "execution_count": 21,
     "metadata": {},
     "output_type": "execute_result"
    }
   ],
   "source": [
    "model = smf.poisson(formula=\"Father_Mutations ~ 1 + Father_age\", data = MUT)\n",
    "results = model.fit()\n",
    "results.summary()"
   ]
  },
  {
   "cell_type": "code",
   "execution_count": 23,
   "metadata": {},
   "outputs": [
    {
     "name": "stdout",
     "output_type": "stream",
     "text": [
      "Optimization terminated successfully.\n",
      "         Current function value: 3.578620\n",
      "         Iterations 5\n"
     ]
    },
    {
     "data": {
      "text/html": [
       "<table class=\"simpletable\">\n",
       "<caption>Poisson Regression Results</caption>\n",
       "<tr>\n",
       "  <th>Dep. Variable:</th>   <td>Father_Mutations</td> <th>  No. Observations:  </th>   <td>   396</td>  \n",
       "</tr>\n",
       "<tr>\n",
       "  <th>Model:</th>                <td>Poisson</td>     <th>  Df Residuals:      </th>   <td>   394</td>  \n",
       "</tr>\n",
       "<tr>\n",
       "  <th>Method:</th>                 <td>MLE</td>       <th>  Df Model:          </th>   <td>     1</td>  \n",
       "</tr>\n",
       "<tr>\n",
       "  <th>Date:</th>            <td>Thu, 10 Sep 2020</td> <th>  Pseudo R-squ.:     </th>   <td>0.2277</td>  \n",
       "</tr>\n",
       "<tr>\n",
       "  <th>Time:</th>                <td>19:52:21</td>     <th>  Log-Likelihood:    </th>  <td> -1417.1</td> \n",
       "</tr>\n",
       "<tr>\n",
       "  <th>converged:</th>             <td>True</td>       <th>  LL-Null:           </th>  <td> -1834.9</td> \n",
       "</tr>\n",
       "<tr>\n",
       "  <th>Covariance Type:</th>     <td>nonrobust</td>    <th>  LLR p-value:       </th> <td>1.004e-183</td>\n",
       "</tr>\n",
       "</table>\n",
       "<table class=\"simpletable\">\n",
       "<tr>\n",
       "       <td></td>         <th>coef</th>     <th>std err</th>      <th>z</th>      <th>P>|z|</th>  <th>[0.025</th>    <th>0.975]</th>  \n",
       "</tr>\n",
       "<tr>\n",
       "  <th>Intercept</th>  <td>    3.1903</td> <td>    0.027</td> <td>  116.856</td> <td> 0.000</td> <td>    3.137</td> <td>    3.244</td>\n",
       "</tr>\n",
       "<tr>\n",
       "  <th>Father_age</th> <td>    0.0241</td> <td>    0.001</td> <td>   29.608</td> <td> 0.000</td> <td>    0.023</td> <td>    0.026</td>\n",
       "</tr>\n",
       "</table>"
      ],
      "text/plain": [
       "<class 'statsmodels.iolib.summary.Summary'>\n",
       "\"\"\"\n",
       "                          Poisson Regression Results                          \n",
       "==============================================================================\n",
       "Dep. Variable:       Father_Mutations   No. Observations:                  396\n",
       "Model:                        Poisson   Df Residuals:                      394\n",
       "Method:                           MLE   Df Model:                            1\n",
       "Date:                Thu, 10 Sep 2020   Pseudo R-squ.:                  0.2277\n",
       "Time:                        19:52:21   Log-Likelihood:                -1417.1\n",
       "converged:                       True   LL-Null:                       -1834.9\n",
       "Covariance Type:            nonrobust   LLR p-value:                1.004e-183\n",
       "==============================================================================\n",
       "                 coef    std err          z      P>|z|      [0.025      0.975]\n",
       "------------------------------------------------------------------------------\n",
       "Intercept      3.1903      0.027    116.856      0.000       3.137       3.244\n",
       "Father_age     0.0241      0.001     29.608      0.000       0.023       0.026\n",
       "==============================================================================\n",
       "\"\"\""
      ]
     },
     "execution_count": 23,
     "metadata": {},
     "output_type": "execute_result"
    }
   ],
   "source": [
    "model = smf.poisson(formula=\"Father_Mutations ~ Father_age\", data = MUT)\n",
    "results = model.fit()\n",
    "results.summary()"
   ]
  },
  {
   "cell_type": "code",
   "execution_count": 24,
   "metadata": {},
   "outputs": [
    {
     "name": "stdout",
     "output_type": "stream",
     "text": [
      "Optimization terminated successfully.\n",
      "         Current function value: 3.011762\n",
      "         Iterations 4\n"
     ]
    },
    {
     "data": {
      "text/html": [
       "<table class=\"simpletable\">\n",
       "<caption>Poisson Regression Results</caption>\n",
       "<tr>\n",
       "  <th>Dep. Variable:</th>   <td>Mother_Mutations</td> <th>  No. Observations:  </th>  <td>   396</td>  \n",
       "</tr>\n",
       "<tr>\n",
       "  <th>Model:</th>                <td>Poisson</td>     <th>  Df Residuals:      </th>  <td>   394</td>  \n",
       "</tr>\n",
       "<tr>\n",
       "  <th>Method:</th>                 <td>MLE</td>       <th>  Df Model:          </th>  <td>     1</td>  \n",
       "</tr>\n",
       "<tr>\n",
       "  <th>Date:</th>            <td>Thu, 10 Sep 2020</td> <th>  Pseudo R-squ.:     </th>  <td>0.04507</td> \n",
       "</tr>\n",
       "<tr>\n",
       "  <th>Time:</th>                <td>19:52:29</td>     <th>  Log-Likelihood:    </th> <td> -1192.7</td> \n",
       "</tr>\n",
       "<tr>\n",
       "  <th>converged:</th>             <td>True</td>       <th>  LL-Null:           </th> <td> -1248.9</td> \n",
       "</tr>\n",
       "<tr>\n",
       "  <th>Covariance Type:</th>     <td>nonrobust</td>    <th>  LLR p-value:       </th> <td>2.662e-26</td>\n",
       "</tr>\n",
       "</table>\n",
       "<table class=\"simpletable\">\n",
       "<tr>\n",
       "          <td></td>            <th>coef</th>     <th>std err</th>      <th>z</th>      <th>P>|z|</th>  <th>[0.025</th>    <th>0.975]</th>  \n",
       "</tr>\n",
       "<tr>\n",
       "  <th>Intercept</th>        <td>    1.9885</td> <td>    0.055</td> <td>   36.355</td> <td> 0.000</td> <td>    1.881</td> <td>    2.096</td>\n",
       "</tr>\n",
       "<tr>\n",
       "  <th>Father_Mutations</th> <td>    0.0105</td> <td>    0.001</td> <td>   10.793</td> <td> 0.000</td> <td>    0.009</td> <td>    0.012</td>\n",
       "</tr>\n",
       "</table>"
      ],
      "text/plain": [
       "<class 'statsmodels.iolib.summary.Summary'>\n",
       "\"\"\"\n",
       "                          Poisson Regression Results                          \n",
       "==============================================================================\n",
       "Dep. Variable:       Mother_Mutations   No. Observations:                  396\n",
       "Model:                        Poisson   Df Residuals:                      394\n",
       "Method:                           MLE   Df Model:                            1\n",
       "Date:                Thu, 10 Sep 2020   Pseudo R-squ.:                 0.04507\n",
       "Time:                        19:52:29   Log-Likelihood:                -1192.7\n",
       "converged:                       True   LL-Null:                       -1248.9\n",
       "Covariance Type:            nonrobust   LLR p-value:                 2.662e-26\n",
       "====================================================================================\n",
       "                       coef    std err          z      P>|z|      [0.025      0.975]\n",
       "------------------------------------------------------------------------------------\n",
       "Intercept            1.9885      0.055     36.355      0.000       1.881       2.096\n",
       "Father_Mutations     0.0105      0.001     10.793      0.000       0.009       0.012\n",
       "====================================================================================\n",
       "\"\"\""
      ]
     },
     "execution_count": 24,
     "metadata": {},
     "output_type": "execute_result"
    }
   ],
   "source": [
    "model = smf.poisson(formula=\"Mother_Mutations ~ Father_Mutations\", data = MUT)\n",
    "results = model.fit()\n",
    "results.summary()"
   ]
  },
  {
   "cell_type": "markdown",
   "metadata": {},
   "source": [
    "# Question 11"
   ]
  },
  {
   "cell_type": "code",
   "execution_count": 25,
   "metadata": {},
   "outputs": [
    {
     "data": {
      "text/plain": [
       "81.61393341269087"
      ]
     },
     "execution_count": 25,
     "metadata": {},
     "output_type": "execute_result"
    }
   ],
   "source": [
    "# P(m)= (e^-lamda(50.5))*((lamda(50.5))^m)/m! \n",
    "#u = exp(a+Bx)\n",
    "import math \n",
    "\n",
    "math.exp(3.19 + 50.5*0.024)\n"
   ]
  },
  {
   "cell_type": "markdown",
   "metadata": {},
   "source": [
    "#### \n",
    "\n"
   ]
  }
 ],
 "metadata": {
  "kernelspec": {
   "display_name": "Python 3",
   "language": "python",
   "name": "python3"
  },
  "language_info": {
   "codemirror_mode": {
    "name": "ipython",
    "version": 3
   },
   "file_extension": ".py",
   "mimetype": "text/x-python",
   "name": "python",
   "nbconvert_exporter": "python",
   "pygments_lexer": "ipython3",
   "version": "3.6.10"
  }
 },
 "nbformat": 4,
 "nbformat_minor": 4
}
