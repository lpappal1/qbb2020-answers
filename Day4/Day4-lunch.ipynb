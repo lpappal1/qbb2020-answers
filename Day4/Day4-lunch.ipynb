{
 "cells": [
  {
   "cell_type": "code",
   "execution_count": 4,
   "metadata": {},
   "outputs": [
    {
     "name": "stdout",
     "output_type": "stream",
     "text": [
      "[['gene_id \"FBgn0267431\"', '835381', '2503907'], ['gene_id \"FBgn0267430\"', '2554124', '3263573'], ['gene_id \"FBgn0086917\"', '3322810', '3354486'], ['gene_id \"FBgn0010247\"', '3461351', '3587054'], ['gene_id \"FBgn0086378\"', '3623143', '3627690'], ['gene_id \"FBgn0263977\"', '3734855', '3745306'], ['gene_id \"FBgn0069923\"', '3750363', '3752353'], ['gene_id \"FBgn0039955\"', '3846729', '3868401']]\n"
     ]
    },
    {
     "data": {
      "text/plain": [
       "8"
      ]
     },
     "execution_count": 4,
     "metadata": {},
     "output_type": "execute_result"
    }
   ],
   "source": [
    "fs=open(\"/Users/cmdb/data/genomes/testday4.gtf\")\n",
    "# 3R:21,378,950.\n",
    "\n",
    "#value= \"21378950\"\n",
    "#boolean = False\n",
    "\n",
    "ls=[]\n",
    "for i in fs:\n",
    "    if \"protein_coding\" not in i:\n",
    "        continue\n",
    "    lines = i.rstrip('\\n\\r').split('\\t')\n",
    "    if \"3R\" not in lines:\n",
    "        continue\n",
    "    if lines[2] == \"gene\":\n",
    "        lines2 = lines[-1].rstrip('\\n\\r').split(';')\n",
    "\n",
    "        ls.append([lines2[0], lines[3], lines[4]])\n",
    "    \n",
    "print(ls)\n",
    "len(ls)\n",
    "\n",
    "    \n",
    "\n",
    "\n"
   ]
  },
  {
   "cell_type": "code",
   "execution_count": null,
   "metadata": {},
   "outputs": [],
   "source": []
  },
  {
   "cell_type": "code",
   "execution_count": 34,
   "metadata": {},
   "outputs": [
    {
     "name": "stdout",
     "output_type": "stream",
     "text": [
      "value was greater than middle\n",
      "1\n"
     ]
    }
   ],
   "source": [
    "value= int(\"21378950\")\n",
    "#boolean = False\n",
    "\n",
    "rows=0\n",
    "for row in ls:\n",
    "    rows +=1\n",
    "#print(rows)\n",
    "\n",
    "#index values:\n",
    "total = len(ls)\n",
    "high_pos=(total-1)\n",
    "low_pos=0\n",
    "mid_pos=int((high_pos+low_pos)/2)\n",
    "#denoting the start position and end position from the list\n",
    "line = ls[mid_pos]\n",
    "mid_seq_start = int(line[1])\n",
    "mid_seq_end = int(line[2])\n",
    "\n",
    "low_line = ls[low_pos]\n",
    "high_line =ls[low_pos]\n",
    "\n",
    "low4between = low_line[2]\n",
    "high4between = high_line[1]\n",
    "\n",
    "\n",
    "count =0  \n",
    "\n",
    "if value > mid_seq_end:\n",
    "    low_pos=mid_pos\n",
    "    mid_pos = int((high_pos+low_pos)/2)\n",
    "    count = +1\n",
    "    print(\"value was greater than middle\")\n",
    "elif value < mid_seq_start:\n",
    "    high_pos = mid_pos\n",
    "    mid_pos = int((high_pos+low_pos)/2)\n",
    "    count = +1\n",
    "    print(\"Value was less than middle\")\n",
    "elif value> low4between and value < high4between:\n",
    "    print(low4between)\n",
    "    print(high4between)\n",
    "elif value <  mid_pos[seq_end] and value > mid_pos[seq_start]:\n",
    "    print(\"Value is within a line!\")\n",
    "else:\n",
    "    print(\"something else\")\n",
    "\n",
    "print(count)\n",
    "\n",
    "#how do you denote the point where you have gone both above and below the value and you are now between it?\n"
   ]
  },
  {
   "cell_type": "code",
   "execution_count": null,
   "metadata": {},
   "outputs": [],
   "source": []
  }
 ],
 "metadata": {
  "kernelspec": {
   "display_name": "Python 3",
   "language": "python",
   "name": "python3"
  },
  "language_info": {
   "codemirror_mode": {
    "name": "ipython",
    "version": 3
   },
   "file_extension": ".py",
   "mimetype": "text/x-python",
   "name": "python",
   "nbconvert_exporter": "python",
   "pygments_lexer": "ipython3",
   "version": "3.6.10"
  }
 },
 "nbformat": 4,
 "nbformat_minor": 4
}
