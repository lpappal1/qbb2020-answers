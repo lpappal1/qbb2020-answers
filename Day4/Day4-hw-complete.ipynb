{
 "cells": [
  {
   "cell_type": "code",
   "execution_count": 20,
   "metadata": {},
   "outputs": [
    {
     "name": "stdout",
     "output_type": "stream",
     "text": [
      "            0            1      2\n",
      "0    STRG.1.1  ATCGCGACTTT     16\n",
      "1     droYak2  CGGTTCATCAA  99988\n",
      "2    STRG.1.1  TCGCGACTTTG     17\n",
      "3     droYak2  CGGTTCATCAA  99988\n",
      "4    STRG.1.1  TTTGTGTGTGT     24\n",
      "..        ...          ...    ...\n",
      "995   droYak2  CGGTTCATCAA  99988\n",
      "996  STRG.4.1  TGTCGCTGATG    173\n",
      "997   droYak2  CGGTTCATCAA  99988\n",
      "998  STRG.4.1  AGTGTGTTGTG    197\n",
      "999   droYak2  CGGTTCATCAA  99988\n",
      "\n",
      "[1000 rows x 3 columns]\n"
     ]
    }
   ],
   "source": [
    "import pandas as pd\n",
    "\n",
    "from fasta_iterator_class import FASTAReader\n",
    "\n",
    "# get arguments from the command line\n",
    "target_fname = open(\"/Users/cmdb/qbb2020-answers/Day4/subset.fa\") #sys.argv[1]\n",
    "droyak_fname = open (\"/Users/cmdb/qbb2020-answers/Day4/droYak2_seq.fa\")\n",
    "\n",
    "# Load sequences\n",
    "target_seqs = FASTAReader(target_fname)\n",
    "droyak_seqs = FASTAReader(droyak_fname)\n",
    "\n",
    "\n",
    "#For the target(single), query(multiple), and length of base pairs(k), the function reads target\n",
    "def kmer_matcher(single, multiple, k):\n",
    "    count = 0\n",
    "    l_seq = []\n",
    "    kmers = {}\n",
    "    reader = FASTAReader(single)\n",
    "    \n",
    "    #for each sequence of the target\n",
    "    for seq_id, sequence in reader:\n",
    "        #function will add kmers to the dictionary\n",
    "        for i in range(0, len(sequence) - k):\n",
    "            kmer = sequence[i:i + k]\n",
    "            kmers.setdefault(kmer, [])\n",
    "            kmers[kmer].append(i)\n",
    "            \n",
    "            \n",
    "    # read the query\n",
    "    reader = FASTAReader(multiple)\n",
    "    # for each sequence of the query\n",
    "    for seq_id, sequence in reader:\n",
    "        #for loop divides up the kmers\n",
    "        for l in range(0, len(sequence) - k):\n",
    "            kmer2 = sequence[l:l + k]\n",
    "            #looks through the dictionary to find kmer matches, appends the sequence id, kmer, and position to a list\n",
    "            if kmer2 in kmers.keys():\n",
    "                if count < 1000:\n",
    "                    l_seq.append([seq_id, kmer2, l]) # get the \n",
    "                    l_seq.append([\"droYak2\", kmer, i]) #IS THIS GETTING THE CORRESPONDING KMER FROM QUERY???\n",
    "                    count = count + 2\n",
    "    \n",
    "    f = open(\"First_1000_lines\", \"w\")\n",
    "    df=pd.DataFrame(l_seq)\n",
    "    f.write(str(df))\n",
    "    print(df)\n",
    "        \n",
    "output=kmer_matcher(droyak_fname, target_fname, 11)\n",
    "\n",
    "output\n",
    "\n",
    "####IT PRINTS THE MATCHED kmer and kmer2 EVERYTIME THEY MATCH\n",
    "####could use a counter to get the first 1000 lines, or print(0:999)?\n",
    "\n"
   ]
  },
  {
   "cell_type": "code",
   "execution_count": null,
   "metadata": {},
   "outputs": [],
   "source": []
  }
 ],
 "metadata": {
  "kernelspec": {
   "display_name": "Python 3",
   "language": "python",
   "name": "python3"
  },
  "language_info": {
   "codemirror_mode": {
    "name": "ipython",
    "version": 3
   },
   "file_extension": ".py",
   "mimetype": "text/x-python",
   "name": "python",
   "nbconvert_exporter": "python",
   "pygments_lexer": "ipython3",
   "version": "3.6.10"
  }
 },
 "nbformat": 4,
 "nbformat_minor": 4
}
