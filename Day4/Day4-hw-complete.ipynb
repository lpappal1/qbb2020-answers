{
 "cells": [
  {
   "cell_type": "code",
   "execution_count": 16,
   "metadata": {},
   "outputs": [
    {
     "ename": "TypeError",
     "evalue": "unhashable type: 'list'",
     "output_type": "error",
     "traceback": [
      "\u001b[0;31m---------------------------------------------------------------------------\u001b[0m",
      "\u001b[0;31mTypeError\u001b[0m                                 Traceback (most recent call last)",
      "\u001b[0;32m<ipython-input-16-ee53d124c018>\u001b[0m in \u001b[0;36m<module>\u001b[0;34m()\u001b[0m\n\u001b[1;32m     58\u001b[0m     \u001b[0mprint\u001b[0m\u001b[0;34m(\u001b[0m\u001b[0mmy_set\u001b[0m\u001b[0;34m)\u001b[0m\u001b[0;34m\u001b[0m\u001b[0;34m\u001b[0m\u001b[0m\n\u001b[1;32m     59\u001b[0m \u001b[0;34m\u001b[0m\u001b[0m\n\u001b[0;32m---> 60\u001b[0;31m \u001b[0moutput\u001b[0m\u001b[0;34m=\u001b[0m\u001b[0mkmer_matcher\u001b[0m\u001b[0;34m(\u001b[0m\u001b[0mdroyak_fname\u001b[0m\u001b[0;34m,\u001b[0m \u001b[0mtarget_fname\u001b[0m\u001b[0;34m,\u001b[0m \u001b[0;36m11\u001b[0m\u001b[0;34m)\u001b[0m\u001b[0;34m\u001b[0m\u001b[0;34m\u001b[0m\u001b[0m\n\u001b[0m\u001b[1;32m     61\u001b[0m \u001b[0;34m\u001b[0m\u001b[0m\n\u001b[1;32m     62\u001b[0m \u001b[0moutput\u001b[0m\u001b[0;34m\u001b[0m\u001b[0;34m\u001b[0m\u001b[0m\n",
      "\u001b[0;32m<ipython-input-16-ee53d124c018>\u001b[0m in \u001b[0;36mkmer_matcher\u001b[0;34m(single, multiple, k)\u001b[0m\n\u001b[1;32m     35\u001b[0m                 \u001b[0ml_seq\u001b[0m\u001b[0;34m.\u001b[0m\u001b[0mappend\u001b[0m\u001b[0;34m(\u001b[0m\u001b[0;34m[\u001b[0m\u001b[0;34m\"droYak2\"\u001b[0m\u001b[0;34m,\u001b[0m \u001b[0mkmer\u001b[0m\u001b[0;34m,\u001b[0m \u001b[0mi\u001b[0m\u001b[0;34m]\u001b[0m\u001b[0;34m)\u001b[0m \u001b[0;31m#IS THIS GETTING THE CORRESPONDING KMER FROM QUERY???\u001b[0m\u001b[0;34m\u001b[0m\u001b[0;34m\u001b[0m\u001b[0m\n\u001b[1;32m     36\u001b[0m \u001b[0;34m\u001b[0m\u001b[0m\n\u001b[0;32m---> 37\u001b[0;31m     \u001b[0mmy_set\u001b[0m\u001b[0;34m=\u001b[0m\u001b[0mset\u001b[0m\u001b[0;34m(\u001b[0m\u001b[0ml_seq\u001b[0m\u001b[0;34m)\u001b[0m\u001b[0;34m\u001b[0m\u001b[0;34m\u001b[0m\u001b[0m\n\u001b[0m\u001b[1;32m     38\u001b[0m \u001b[0;34m\u001b[0m\u001b[0m\n\u001b[1;32m     39\u001b[0m \u001b[0;31m#    df=pd.DataFrame.from_records(my_set, columns=[\"col1\",\"col2\",\"col3\"])\u001b[0m\u001b[0;34m\u001b[0m\u001b[0;34m\u001b[0m\u001b[0;34m\u001b[0m\u001b[0m\n",
      "\u001b[0;31mTypeError\u001b[0m: unhashable type: 'list'"
     ]
    }
   ],
   "source": [
    "import pandas as pd\n",
    "\n",
    "from fasta_iterator_class import FASTAReader\n",
    "\n",
    "# get arguments from the command line\n",
    "target_fname = open(\"/Users/cmdb/qbb2020-answers/Day4/subset.fa\") #sys.argv[1]\n",
    "droyak_fname = open (\"/Users/cmdb/qbb2020-answers/Day4/droYak2_seq.fa\")\n",
    "\n",
    "# Load sequences\n",
    "target_seqs = FASTAReader(target_fname)\n",
    "droyak_seqs = FASTAReader(droyak_fname)\n",
    "\n",
    "# find 11bp sequences in Droyak fasta file\n",
    "# that match to sequences in the subset.fa file\n",
    "\n",
    "#sequence = droyak_fname\n",
    "\n",
    "def kmer_matcher(single, multiple, k):\n",
    "    l_seq = []\n",
    "    kmers = {}\n",
    "    reader = FASTAReader(single)\n",
    "    for seq_id, sequence in reader:\n",
    "        for i in range(0, len(sequence) - k):\n",
    "            kmer = sequence[i:i + k]\n",
    "            kmers.setdefault(kmer, [])\n",
    "            kmers[kmer].append([i])\n",
    "            #l_seq.append([\"droYak2\", kmer, i])\n",
    "\n",
    "    reader2 = FASTAReader(multiple)\n",
    "    for seq_id2, sequence in reader2:\n",
    "        for l in range(0, len(sequence) - k):\n",
    "            kmer2 = sequence[l:l + k]\n",
    "            if kmer2 in kmers.keys():\n",
    "                l_seq.append([seq_id2, kmer2, l]) # get the \n",
    "                l_seq.append([\"droYak2\", kmer, i]) #IS THIS GETTING THE CORRESPONDING KMER FROM QUERY???\n",
    "    \n",
    "    my_set=set(l_seq)\n",
    "    \n",
    "#    df=pd.DataFrame.from_records(my_set, columns=[\"col1\",\"col2\",\"col3\"])\n",
    "#    df.sort_values(by=[\"col2\"]) #WHY ISNT THIS WORKING TODAY??\n",
    "    \n",
    "    #unique_values=df.col2.unique()\n",
    "    \n",
    "    #unique_kmers=[]\n",
    "    #if list_seq[1] not in unique_values:\n",
    "        #unique_kmers.append(list_seq)\n",
    "        \n",
    "    \n",
    "    #if kmer not in unique_values\n",
    "    \n",
    "    #df.to_numpy()\n",
    "                \n",
    "    #return(df)\n",
    "#    print(df)\n",
    "#    output_file=open('matchedkmers.txt', 'w')\n",
    "#    output_file.append(df)\n",
    "\n",
    "    print(my_set)\n",
    "        \n",
    "output=kmer_matcher(droyak_fname, target_fname, 11)\n",
    "\n",
    "output\n",
    "\n",
    "####IT PRINTS THE MATCHED kmer and kmer2 EVERYTIME THEY MATCH\n"
   ]
  },
  {
   "cell_type": "code",
   "execution_count": null,
   "metadata": {},
   "outputs": [],
   "source": []
  }
 ],
 "metadata": {
  "kernelspec": {
   "display_name": "Python 3",
   "language": "python",
   "name": "python3"
  },
  "language_info": {
   "codemirror_mode": {
    "name": "ipython",
    "version": 3
   },
   "file_extension": ".py",
   "mimetype": "text/x-python",
   "name": "python",
   "nbconvert_exporter": "python",
   "pygments_lexer": "ipython3",
   "version": "3.6.10"
  }
 },
 "nbformat": 4,
 "nbformat_minor": 4
}
